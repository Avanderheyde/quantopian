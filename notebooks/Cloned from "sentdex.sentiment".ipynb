{
 "cells": [
  {
   "cell_type": "markdown",
   "metadata": {
    "collapsed": true
   },
   "source": [
    "# Sentdex\n",
    "\n",
    "In this notebook, we'll take a look at Sentdex's *Sentiment* dataset, available through the [Quantopian partner program](https://www.quantopian.com/data). This dataset spans 2012 through the current day, and documents the mood of traders based on their messages.\n",
    "\n",
    "## Notebook Contents\n",
    "\n",
    "There are two ways to access the data and you'll find both of them listed below. Just click on the section you'd like to read through.\n",
    "\n",
    "- <a href='#interactive'><strong>Interactive overview</strong></a>: This is only available on Research and uses blaze to give you access to large amounts of data. Recommended for exploration and plotting.\n",
    "- <a href='#pipeline'><strong>Pipeline overview</strong></a>: Data is made available through pipeline which is available on both the Research & Backtesting environment. Recommended for custom factor development and moving back & forth between research/backtesting.\n",
    "\n",
    "### Free samples and limits\n",
    "One key caveat: we limit the number of results returned from any given expression to 10,000 to protect against runaway memory usage. To be clear, you have access to all the data server side. We are limiting the size of the responses back from Blaze.\n",
    "\n",
    "There is a *free* version of this dataset as well as a paid one. The free sample includes data until 2 months prior to the current date.\n",
    "\n",
    "To access the most up-to-date values for this data set for trading a live algorithm (as with other partner sets), you need to purchase acess to the full set.\n",
    "\n",
    "With preamble in place, let's get started:\n",
    "\n",
    "<a id='interactive'></a>\n",
    "#Interactive Overview\n",
    "### Accessing the data with Blaze and Interactive on Research\n",
    "Partner datasets are available on Quantopian Research through an API service known as [Blaze](http://blaze.pydata.org). Blaze provides the Quantopian user with a convenient interface to access very large datasets, in an interactive, generic manner.\n",
    "\n",
    "Blaze provides an important function for accessing these datasets. Some of these sets are many millions of records. Bringing that data directly into Quantopian Research directly just is not viable. So Blaze allows us to provide a simple querying interface and shift the burden over to the server side.\n",
    "\n",
    "It is common to use Blaze to reduce your dataset in size, convert it over to Pandas and then to use Pandas for further computation, manipulation and visualization.\n",
    "\n",
    "Helpful links:\n",
    "* [Query building for Blaze](http://blaze.readthedocs.io/en/latest/queries.html)\n",
    "* [Pandas-to-Blaze dictionary](http://blaze.readthedocs.io/en/latest/rosetta-pandas.html)\n",
    "* [SQL-to-Blaze dictionary](http://blaze.readthedocs.io/en/latest/rosetta-sql.html).\n",
    "\n",
    "Once you've limited the size of your Blaze object, you can convert it to a Pandas DataFrames using:\n",
    "> `from odo import odo`  \n",
    "> `odo(expr, pandas.DataFrame)`\n",
    "\n",
    "\n",
    "###To see how this data can be used in your algorithm, search for the `Pipeline Overview` section of this notebook or head straight to <a href='#pipeline'>Pipeline Overview</a>"
   ]
  },
  {
   "cell_type": "code",
   "execution_count": null,
   "metadata": {},
   "outputs": [],
   "source": [
    "# import the free sample of the dataset\n",
    "from quantopian.interactive.data.sentdex import sentiment_free as dataset\n",
    "\n",
    "# or if you want to import the full dataset, use:\n",
    "# from quantopian.interactive.data.sentdex import sentiment\n",
    "\n",
    "# import data operations\n",
    "from odo import odo\n",
    "# import other libraries we will use\n",
    "import pandas as pd\n",
    "import matplotlib.pyplot as plt"
   ]
  },
  {
   "cell_type": "code",
   "execution_count": null,
   "metadata": {},
   "outputs": [],
   "source": [
    "# Let's use blaze to understand the data a bit using Blaze dshape()\n",
    "dataset.dshape"
   ]
  },
  {
   "cell_type": "code",
   "execution_count": null,
   "metadata": {},
   "outputs": [],
   "source": [
    "# And how many rows are there?\n",
    "# N.B. we're using a Blaze function to do this, not len()\n",
    "dataset.count()"
   ]
  },
  {
   "cell_type": "code",
   "execution_count": null,
   "metadata": {},
   "outputs": [],
   "source": [
    "# Let's see what the data looks like. We'll grab the first three rows.\n",
    "dataset[:3]"
   ]
  },
  {
   "cell_type": "markdown",
   "metadata": {},
   "source": [
    "The Sentdex Sentiment data feed is elegant and simple. Just a few fields:\n",
    "\n",
    "Let's go over the columns:\n",
    "- **asof_date**: The date to which this data applies.\n",
    "- **symbol**: stock ticker symbol of the affected company.\n",
    "- **timestamp**: the datetime at which the data is available to the Quantopian system. For historical data loaded, we have simulated a lag. For data we have loaded since the advent of loading this data set, the timestamp is an actual recorded value.\n",
    "- **sentiment_signal**: A standalone sentiment score from -3 to 6 for stocks\n",
    "- **sid**: the equity's unique identifier. Use this instead of the symbol.\n",
    "\n",
    "From the [Sentdex documentation](http://sentdex.com/blog/back-testing-sentdex-sentiment-analysis-signals-for-stocks):\n",
    "\n",
    "```\n",
    "The signals currently vary from -3 to a positive 6, where -3 is as equally strongly negative of sentiment as a 6 is strongly positive sentiment.\n",
    "\n",
    "Sentiment signals:\n",
    "\n",
    "6 - Strongest positive sentiment.\n",
    "5 - Extremely strong, positive, sentiment.\n",
    "4 - Very strong, positive, sentiment.\n",
    "3 - Strong, positive sentiment.\n",
    "2 - Substantially positive sentiment.\n",
    "1 - Barely positive sentiment.\n",
    "0 - Neutral sentiment\n",
    "-1 - Sentiment trending into negatives.\n",
    "-2 - Weak negative sentiment.\n",
    "-3 - Strongest negative sentiment.\n",
    "```\n",
    "\n",
    "We've done much of the data processing for you. Fields like `timestamp` and `sid` are standardized across all our Store Datasets, so the datasets are easy to combine. We have standardized the `sid` across all our equity databases.\n",
    "\n",
    "We can select columns and rows with ease. Below, we'll fetch all rows for Apple (sid 24) and explore the scores a bit with a chart."
   ]
  },
  {
   "cell_type": "code",
   "execution_count": null,
   "metadata": {},
   "outputs": [],
   "source": [
    "# Filtering for AAPL\n",
    "aapl = dataset[dataset.sid == 24]\n",
    "aapl_df = odo(aapl.sort('asof_date'), pd.DataFrame)\n",
    "plt.plot(aapl_df.asof_date, aapl_df.sentiment_signal, marker='.', linestyle='None', color='r')\n",
    "plt.plot(aapl_df.asof_date, pd.rolling_mean(aapl_df.sentiment_signal, 30))\n",
    "plt.xlabel(\"As Of Date (asof_date)\")\n",
    "plt.ylabel(\"Sentiment\")\n",
    "plt.title(\"Sentdex Sentiment for AAPL\")\n",
    "plt.legend([\"Sentiment - Single Day\", \"30 Day Rolling Average\"], loc=1)\n",
    "x1,x2,y1,y2 = plt.axis()\n",
    "plt.axis((x1,x2,-4,7.5))"
   ]
  },
  {
   "cell_type": "markdown",
   "metadata": {},
   "source": [
    "Let's check out Comcast's sentiment for fun"
   ]
  },
  {
   "cell_type": "code",
   "execution_count": null,
   "metadata": {},
   "outputs": [],
   "source": [
    "comcast = dataset[dataset.sid == 1637]\n",
    "comcast_df = odo(comcast.sort('asof_date'), pd.DataFrame)\n",
    "plt.plot(comcast_df.asof_date, comcast_df.sentiment_signal, marker='.', linestyle='None', color='r')\n",
    "plt.plot(comcast_df.asof_date, pd.rolling_mean(comcast_df.sentiment_signal, 30))\n",
    "plt.xlabel(\"As Of Date (asof_date)\")\n",
    "plt.ylabel(\"Sentiment\")\n",
    "plt.title(\"Sentdex Sentiment for Comcast\")\n",
    "plt.legend([\"Sentiment - Single Day\", \"30 Day Rolling Average\"], loc=1)\n",
    "x1,x2,y1,y2 = plt.axis()\n",
    "plt.axis((x1,x2,-4,7.5))"
   ]
  },
  {
   "cell_type": "markdown",
   "metadata": {},
   "source": [
    "<a id='pipeline'></a>\n",
    "\n",
    "#Pipeline Overview\n",
    "\n",
    "### Accessing the data in your algorithms & research\n",
    "The only method for accessing partner data within algorithms running on Quantopian is via the pipeline API. Different data sets work differently but in the case of this PsychSignal data, you can add this data to your pipeline as follows:\n",
    "\n",
    "Import the data set\n",
    "> `from quantopian.pipeline.data.sentdex import sentiment`\n",
    "\n",
    "Then in intialize() you could do something simple like adding the raw value of one of the fields to your pipeline:\n",
    "> `pipe.add(sentiment.sentiment_signal.latest, 'sentdex_sentiment')`"
   ]
  },
  {
   "cell_type": "code",
   "execution_count": null,
   "metadata": {},
   "outputs": [],
   "source": [
    "# Import necessary Pipeline modules\n",
    "from quantopian.pipeline import Pipeline\n",
    "from quantopian.research import run_pipeline\n",
    "from quantopian.pipeline.factors import AverageDollarVolume"
   ]
  },
  {
   "cell_type": "code",
   "execution_count": null,
   "metadata": {},
   "outputs": [],
   "source": [
    "# For use in your algorithms\n",
    "# Using the full paid dataset in your pipeline algo\n",
    "# from quantopian.pipeline.data.sentdex import sentiment\n",
    "\n",
    "# Using the free sample in your pipeline algo\n",
    "from quantopian.pipeline.data.sentdex import sentiment_free"
   ]
  },
  {
   "cell_type": "markdown",
   "metadata": {},
   "source": [
    "Now that we've imported the data, let's take a look at which fields are available for each dataset.\n",
    "\n",
    "You'll find the dataset, the available fields, and the datatypes for each of those fields."
   ]
  },
  {
   "cell_type": "code",
   "execution_count": null,
   "metadata": {},
   "outputs": [],
   "source": [
    "print \"Here are the list of available fields per dataset:\"\n",
    "print \"---------------------------------------------------\\n\"\n",
    "\n",
    "def _print_fields(dataset):\n",
    "    print \"Dataset: %s\\n\" % dataset.__name__\n",
    "    print \"Fields:\"\n",
    "    for field in list(dataset.columns):\n",
    "        print \"%s - %s\" % (field.name, field.dtype)\n",
    "    print \"\\n\"\n",
    "\n",
    "for data in (sentiment_free,):\n",
    "    _print_fields(data)\n",
    "\n",
    "\n",
    "print \"---------------------------------------------------\\n\""
   ]
  },
  {
   "cell_type": "markdown",
   "metadata": {},
   "source": [
    "Now that we know what fields we have access to, let's see what this data looks like when we run it through Pipeline.\n",
    "\n",
    "\n",
    "This is constructed the same way as you would in the backtester. For more information on using Pipeline in Research view this thread:\n",
    "https://www.quantopian.com/posts/pipeline-in-research-build-test-and-visualize-your-factors-and-filters"
   ]
  },
  {
   "cell_type": "code",
   "execution_count": null,
   "metadata": {},
   "outputs": [],
   "source": [
    "# Let's see what this data looks like when we run it through Pipeline\n",
    "# This is constructed the same way as you would in the backtester. For more information\n",
    "# on using Pipeline in Research view this thread:\n",
    "# https://www.quantopian.com/posts/pipeline-in-research-build-test-and-visualize-your-factors-and-filters\n",
    "pipe = Pipeline()\n",
    "       \n",
    "pipe.add(sentiment_free.sentiment_signal.latest, 'sentiment_signal')"
   ]
  },
  {
   "cell_type": "code",
   "execution_count": null,
   "metadata": {},
   "outputs": [],
   "source": [
    "# Setting some basic liquidity strings (just for good habit)\n",
    "dollar_volume = AverageDollarVolume(window_length=20)\n",
    "top_1000_most_liquid = dollar_volume.rank(ascending=False) < 1000\n",
    "\n",
    "pipe.set_screen(top_1000_most_liquid & sentiment_free.sentiment_signal.latest.notnan())"
   ]
  },
  {
   "cell_type": "code",
   "execution_count": null,
   "metadata": {},
   "outputs": [],
   "source": [
    "# The show_graph() method of pipeline objects produces a graph to show how it is being calculated.\n",
    "pipe.show_graph(format='png')"
   ]
  },
  {
   "cell_type": "code",
   "execution_count": null,
   "metadata": {},
   "outputs": [],
   "source": [
    "# run_pipeline will show the output of your pipeline\n",
    "pipe_output = run_pipeline(pipe, start_date='2013-11-01', end_date='2013-11-25')\n",
    "pipe_output"
   ]
  },
  {
   "cell_type": "markdown",
   "metadata": {},
   "source": [
    "Taking what we've seen from above, let's see how we'd move that into the backtester."
   ]
  },
  {
   "cell_type": "code",
   "execution_count": null,
   "metadata": {},
   "outputs": [],
   "source": [
    "# This section is only importable in the backtester\n",
    "from quantopian.algorithm import attach_pipeline, pipeline_output\n",
    "\n",
    "# General pipeline imports\n",
    "from quantopian.pipeline import Pipeline\n",
    "from quantopian.pipeline.factors import AverageDollarVolume\n",
    "\n",
    "# Import the datasets available\n",
    "# For use in your algorithms\n",
    "# Using the full paid dataset in your pipeline algo\n",
    "# from quantopian.pipeline.data.sentdex import sentiment\n",
    "\n",
    "# Using the free sample in your pipeline algo\n",
    "from quantopian.pipeline.data.sentdex import sentiment_free\n",
    "\n",
    "def make_pipeline():\n",
    "    # Create our pipeline\n",
    "    pipe = Pipeline()\n",
    "    \n",
    "    # Screen out penny stocks and low liquidity securities.\n",
    "    dollar_volume = AverageDollarVolume(window_length=20)\n",
    "    is_liquid = dollar_volume.rank(ascending=False) < 1000\n",
    "    \n",
    "    # Create the mask that we will use for our percentile methods.\n",
    "    base_universe = (is_liquid)\n",
    "\n",
    "    # Add pipeline factors\n",
    "    pipe.add(sentiment_free.sentiment_signal.latest, 'sentiment_signal')\n",
    "\n",
    "    # Set our pipeline screens\n",
    "    pipe.set_screen(is_liquid)\n",
    "    return pipe\n",
    "\n",
    "def initialize(context):\n",
    "    attach_pipeline(make_pipeline(), \"pipeline\")\n",
    "    \n",
    "def before_trading_start(context, data):\n",
    "    results = pipeline_output('pipeline')"
   ]
  },
  {
   "cell_type": "markdown",
   "metadata": {},
   "source": [
    "Now you can take that and begin to use it as a building block for your algorithms, for more examples on how to do that you can visit our <a href='https://www.quantopian.com/posts/pipeline-factor-library-for-data'>data pipeline factor library</a>"
   ]
  }
 ],
 "metadata": {
  "kernelspec": {
   "display_name": "Python 2",
   "language": "python",
   "name": "python2"
  },
  "language_info": {
   "codemirror_mode": {
    "name": "ipython",
    "version": 2
   },
   "file_extension": ".py",
   "mimetype": "text/x-python",
   "name": "python",
   "nbconvert_exporter": "python",
   "pygments_lexer": "ipython2",
   "version": "2.7.11"
  }
 },
 "nbformat": 4,
 "nbformat_minor": 0
}
