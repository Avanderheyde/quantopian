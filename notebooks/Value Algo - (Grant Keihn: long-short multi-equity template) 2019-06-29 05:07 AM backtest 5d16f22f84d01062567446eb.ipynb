{
 "cells": [
  {
   "cell_type": "markdown",
   "metadata": {},
   "source": [
    "Run the cell below to create your tear sheet."
   ]
  },
  {
   "cell_type": "code",
   "execution_count": null,
   "metadata": {},
   "outputs": [],
   "source": [
    "bt = get_backtest('5d16f22f84d01062567446eb')\n",
    "bt.create_full_tear_sheet()"
   ]
  }
 ],
 "metadata": {
  "from_backtest": "5d16f22f84d01062567446eb"
 },
 "nbformat": 4,
 "nbformat_minor": 2
}
