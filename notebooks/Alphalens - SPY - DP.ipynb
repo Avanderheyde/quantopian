{
 "cells": [
  {
   "cell_type": "code",
   "execution_count": null,
   "metadata": {},
   "outputs": [],
   "source": [
    "import numpy as np\n",
    "import math\n",
    "from quantopian.research import run_pipeline\n",
    "from quantopian.pipeline import Pipeline\n",
    "from quantopian.pipeline.data.builtin import USEquityPricing\n",
    "from quantopian.pipeline.filters import StaticAssets, QTradableStocksUS\n",
    "\n",
    "from quantopian.pipeline.factors import Latest\n",
    "from quantopian.pipeline.data import morningstar\n",
    "from quantopian.pipeline.factors import CustomFactor, SimpleMovingAverage, AverageDollarVolume, Returns, RSI\n",
    "from quantopian.pipeline.classifiers.morningstar import Sector\n",
    "from quantopian.pipeline.data.zacks import EarningsSurprises\n",
    "\n",
    "import talib\n",
    "import pandas as pd\n",
    "import pyfolio as pf\n",
    "from scipy import stats\n",
    "import matplotlib.pyplot as plt\n",
    "from sklearn import linear_model, decomposition, ensemble, preprocessing, isotonic, metrics\n",
    "\n",
    "bs = morningstar.balance_sheet\n",
    "cfs = morningstar.cash_flow_statement\n",
    "is_ = morningstar.income_statement\n",
    "or_ = morningstar.operation_ratios\n",
    "er = morningstar.earnings_report\n",
    "v = morningstar.valuation\n",
    "vr = morningstar.valuation_ratios"
   ]
  },
  {
   "cell_type": "code",
   "execution_count": null,
   "metadata": {},
   "outputs": [],
   "source": [
    "def make_pipeline():\n",
    "    asset_list = symbols(['SPY'])\n",
    "\n",
    "    asset_filter = StaticAssets(asset_list)\n",
    "    \n",
    "    pipe = Pipeline(columns={\n",
    "        'testing_factor': testing_factor\n",
    "    },screen= asset_filter)\n",
    "\n",
    "    return pipe\n",
    "    "
   ]
  },
  {
   "cell_type": "code",
   "execution_count": null,
   "metadata": {},
   "outputs": [],
   "source": [
    "def dp_ratio():\n",
    "        total_div = 0\n",
    "        total_price = 0\n",
    "        for i in QTradableStocksUS: \"FIX THIS, Possibly need to make this in python then import to Quantopian\"\n",
    "            total_div += er.dividend_per_share * v.shares_outstanding\n",
    "            total_price += v.market_cap/v.shares_outstanding\n",
    "        dp_rat = (math.log10(total_div)/math.log10())\n",
    "        return dp_rat\n",
    "    \n",
    "testing_factor = dp_ratio\n",
    "type(testing_factor)\n",
    "testing_factor"
   ]
  },
  {
   "cell_type": "code",
   "execution_count": null,
   "metadata": {},
   "outputs": [],
   "source": [
    "result = run_pipeline(make_pipeline(), start_date='2015-01-01',end_date='2016-01-01')\n",
    "result.head()"
   ]
  },
  {
   "cell_type": "code",
   "execution_count": null,
   "metadata": {},
   "outputs": [],
   "source": [
    "assets = result.index.levels[1].unique()\n",
    "len(assets)"
   ]
  },
  {
   "cell_type": "code",
   "execution_count": null,
   "metadata": {},
   "outputs": [],
   "source": [
    "pricing_data = get_pricing(assets,start_date='2014-12-01',end_date='2016-02-01', fields='open_price')"
   ]
  },
  {
   "cell_type": "code",
   "execution_count": null,
   "metadata": {},
   "outputs": [],
   "source": [
    "import alphalens as al\n",
    "from alphalens.utils import get_clean_factor_and_forward_returns\n",
    "from alphalens.tears import create_returns_tear_sheet\n",
    "\n",
    "factor_data = get_clean_factor_and_forward_returns(\n",
    "    result['testing_factor'], # How to analyze a specific pipeline column with Alphalens\n",
    "    pricing_data,\n",
    "    quantiles = 2,\n",
    "    periods=(1,5,10)\n",
    ")\n",
    "create_returns_tear_sheet(factor_data=factor_data)"
   ]
  },
  {
   "cell_type": "code",
   "execution_count": null,
   "metadata": {},
   "outputs": [],
   "source": []
  }
 ],
 "metadata": {
  "kernelspec": {
   "display_name": "Python 2",
   "language": "python",
   "name": "python2"
  },
  "language_info": {
   "codemirror_mode": {
    "name": "ipython",
    "version": 2
   },
   "file_extension": ".py",
   "mimetype": "text/x-python",
   "name": "python",
   "nbconvert_exporter": "python",
   "pygments_lexer": "ipython2",
   "version": "2.7.12"
  }
 },
 "nbformat": 4,
 "nbformat_minor": 2
}
