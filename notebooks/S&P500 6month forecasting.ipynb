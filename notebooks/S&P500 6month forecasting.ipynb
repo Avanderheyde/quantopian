{
 "cells": [
  {
   "cell_type": "code",
   "execution_count": null,
   "metadata": {},
   "outputs": [],
   "source": [
    "import numpy as np\n",
    "import math\n",
    "from quantopian.research import run_pipeline\n",
    "from quantopian.pipeline import Pipeline\n",
    "from quantopian.pipeline.data.builtin import USEquityPricing\n",
    "from quantopian.pipeline.filters import StaticAssets,QTradableStocksUS\n",
    "\n",
    "from quantopian.pipeline.factors import Latest\n",
    "from quantopian.pipeline.data import morningstar\n",
    "from quantopian.pipeline.factors import CustomFactor, SimpleMovingAverage, AverageDollarVolume, Returns, RSI\n",
    "from quantopian.pipeline.classifiers.morningstar import Sector\n",
    "from quantopian.pipeline.data.zacks import EarningsSurprises\n",
    "from quantopian.pipeline.data import Fundamentals\n",
    "from quantopian.pipeline.data import factset\n",
    "\n",
    "import talib\n",
    "import pandas as pd\n",
    "import alphalens as al\n",
    "import pyfolio as pf\n",
    "from scipy import stats\n",
    "import matplotlib.pyplot as plt\n",
    "from sklearn import linear_model, decomposition, ensemble, preprocessing, isotonic, metrics\n",
    "\n",
    "bs = morningstar.balance_sheet\n",
    "cfs = morningstar.cash_flow_statement\n",
    "is_ = morningstar.income_statement\n",
    "or_ = morningstar.operation_ratios\n",
    "er = morningstar.earnings_report\n",
    "v = morningstar.valuation\n",
    "vr = morningstar.valuation_ratios\n"
   ]
  },
  {
   "cell_type": "code",
   "execution_count": null,
   "metadata": {},
   "outputs": [],
   "source": [
    "universe = QTradableStocksUS"
   ]
  },
  {
   "cell_type": "code",
   "execution_count": null,
   "metadata": {},
   "outputs": [],
   "source": [
    "def make_pipeline():\n",
    "    asset_list = symbols(['SPY'])\n",
    "    asset_filter = StaticAssets(asset_list)\n",
    "    \n",
    "    assets_moving_average = SimpleMovingAverage(inputs=[factset.Fundamentals.assets.latest], window_length=252)\n",
    "    current_assets = factset.Fundamentals.assets.latest\n",
    "\n",
    "    factor_to_analyze = (current_assets - assets_moving_average)\n",
    "\n",
    "    return Pipeline(\n",
    "        columns={'factor_to_analyze': factor_to_analyze},\n",
    "        screen=asset_filter & factor_to_analyze.notnull()\n",
    "    )\n",
    "\n",
    "factor_data = run_pipeline(make_pipeline(), '2015-1-1', '2016-1-1')\n",
    "pricing_data = get_pricing(factor_data.index.levels[1], '2015-1-1', '2016-6-1', fields='open_price')"
   ]
  },
  {
   "cell_type": "code",
   "execution_count": null,
   "metadata": {},
   "outputs": [],
   "source": [
    "import alphalens\n",
    "from alphalens.utils import get_clean_factor_and_forward_returns\n",
    "\n",
    "\n",
    "factor_data = get_clean_factor_and_forward_returns(\n",
    "    result['percent_diff'],\n",
    "    pricing,\n",
    "    quantiles=2,\n",
    "    periods=range(1,10,20) # Change the step to 10 or more for long look forward periods to save time\n",
    ")\n"
   ]
  },
  {
   "cell_type": "code",
   "execution_count": null,
   "metadata": {},
   "outputs": [],
   "source": []
  }
 ],
 "metadata": {
  "kernelspec": {
   "display_name": "Python 2",
   "language": "python",
   "name": "python2"
  },
  "language_info": {
   "codemirror_mode": {
    "name": "ipython",
    "version": 2
   },
   "file_extension": ".py",
   "mimetype": "text/x-python",
   "name": "python",
   "nbconvert_exporter": "python",
   "pygments_lexer": "ipython2",
   "version": "2.7.12"
  }
 },
 "nbformat": 4,
 "nbformat_minor": 2
}
