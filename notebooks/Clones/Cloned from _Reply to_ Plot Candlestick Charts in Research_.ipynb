{
 "cells": [
  {
   "cell_type": "markdown",
   "metadata": {},
   "source": [
    "# plot_candles: Candlestick Charts for Quantopian"
   ]
  },
  {
   "cell_type": "code",
   "execution_count": null,
   "metadata": {},
   "outputs": [],
   "source": [
    "fundamentals = init_fundamentals()"
   ]
  },
  {
   "cell_type": "code",
   "execution_count": null,
   "metadata": {},
   "outputs": [],
   "source": [
    "\"\"\"Required imports\"\"\"\n",
    "import matplotlib.pyplot as plt\n",
    "import numpy as np\n",
    "import pandas as pd"
   ]
  },
  {
   "cell_type": "code",
   "execution_count": null,
   "metadata": {},
   "outputs": [],
   "source": [
    "\"\"\"This cell defines the plot_candles function\"\"\"\n",
    "\n",
    "def plot_candles(pricing, title=None,\n",
    "                 volume_bars=False,\n",
    "                 color_function=None,\n",
    "                 overlays=None,\n",
    "                 technicals=None,\n",
    "                 technicals_titles=None):\n",
    "    \"\"\" Plots a candlestick chart using quantopian pricing data.\n",
    "    \n",
    "    Author: Daniel Treiman\n",
    "    \n",
    "    Args:\n",
    "      pricing: A pandas dataframe with columns ['open_price', 'close_price', 'high', 'low', 'volume']\n",
    "      title: An optional title for the chart\n",
    "      volume_bars: If True, plots volume bars\n",
    "      color_function: A function which, given a row index and price series, returns a candle color.\n",
    "      overlays: A list of additional data series to overlay on top of pricing.  Must be the same length as pricing.\n",
    "      technicals: A list of additional data series to display as subplots.\n",
    "      technicals_titles: A list of titles to display for each technical indicator.\n",
    "    \"\"\"\n",
    "    def default_color(index, open_price, close_price, low, high):\n",
    "        return 'r' if open_price[index] > close_price[index] else 'g'\n",
    "    color_function = color_function or default_color\n",
    "    overlays = overlays or []\n",
    "    technicals = technicals or []\n",
    "    technicals_titles = technicals_titles or []\n",
    "    open_price = pricing['open_price']\n",
    "    close_price = pricing['close_price']\n",
    "    low = pricing['low']\n",
    "    high = pricing['high']\n",
    "    oc_min = pd.concat([open_price, close_price], axis=1).min(axis=1)\n",
    "    oc_max = pd.concat([open_price, close_price], axis=1).max(axis=1)\n",
    "    \n",
    "    subplot_count = 1\n",
    "    if volume_bars:\n",
    "        subplot_count = 2\n",
    "    if technicals:\n",
    "        subplot_count += len(technicals)\n",
    "    \n",
    "    if subplot_count == 1:\n",
    "        fig, ax1 = plt.subplots(1, 1)\n",
    "    else:\n",
    "        ratios = np.insert(np.full(subplot_count - 1, 1), 0, 3)\n",
    "        fig, subplots = plt.subplots(subplot_count, 1, sharex=True, gridspec_kw={'height_ratios': ratios})\n",
    "        ax1 = subplots[0]\n",
    "        \n",
    "    if title:\n",
    "        ax1.set_title(title)\n",
    "    x = np.arange(len(pricing))\n",
    "    candle_colors = [color_function(i, open_price, close_price, low, high) for i in x]\n",
    "    candles = ax1.bar(x, oc_max-oc_min, bottom=oc_min, color=candle_colors, linewidth=0)\n",
    "    lines = ax1.vlines(x + 0.4, low, high, color=candle_colors, linewidth=1)\n",
    "    ax1.xaxis.grid(False)\n",
    "    ax1.xaxis.set_tick_params(which='major', length=3.0, direction='in', top='off')\n",
    "    # Assume minute frequency if first two bars are in the same day.\n",
    "    frequency = 'minute' if (pricing.index[1] - pricing.index[0]).days == 0 else 'day'\n",
    "    time_format = '%d-%m-%Y'\n",
    "    if frequency == 'minute':\n",
    "        time_format = '%H:%M'\n",
    "    # Set X axis tick labels.\n",
    "    plt.xticks(x, [date.strftime(time_format) for date in pricing.index], rotation='vertical')\n",
    "    for overlay in overlays:\n",
    "        ax1.plot(x, overlay)\n",
    "    # Plot volume bars if needed\n",
    "    if volume_bars:\n",
    "        ax2 = subplots[1]\n",
    "        volume = pricing['volume']\n",
    "        volume_scale = None\n",
    "        scaled_volume = volume\n",
    "        if volume.max() > 1000000:\n",
    "            volume_scale = 'M'\n",
    "            scaled_volume = volume / 1000000\n",
    "        elif volume.max() > 1000:\n",
    "            volume_scale = 'K'\n",
    "            scaled_volume = volume / 1000\n",
    "        ax2.bar(x, scaled_volume, color=candle_colors)\n",
    "        volume_title = 'Volume'\n",
    "        if volume_scale:\n",
    "            volume_title = 'Volume (%s)' % volume_scale\n",
    "        ax2.set_title(volume_title)\n",
    "        ax2.xaxis.grid(False)\n",
    "    # Plot additional technical indicators\n",
    "    for (i, technical) in enumerate(technicals):\n",
    "        ax = subplots[i - len(technicals)] # Technical indicator plots are shown last\n",
    "        ax.plot(x, technical)\n",
    "        if i < len(technicals_titles):\n",
    "            ax.set_title(technicals_titles[i])"
   ]
  },
  {
   "cell_type": "markdown",
   "metadata": {},
   "source": [
    "## Basic candlestick chart"
   ]
  },
  {
   "cell_type": "code",
   "execution_count": null,
   "metadata": {},
   "outputs": [],
   "source": [
    "# Get some daily pricing to demo.\n",
    "goog_day_pricing = get_pricing('GOOG', start_date='2016-10-1', end_date='2016-11-21')"
   ]
  },
  {
   "cell_type": "code",
   "execution_count": null,
   "metadata": {},
   "outputs": [],
   "source": [
    "plot_candles(goog_day_pricing, title='1 day candles')"
   ]
  },
  {
   "cell_type": "markdown",
   "metadata": {},
   "source": [
    "## Candlestick chart with volume bars"
   ]
  },
  {
   "cell_type": "code",
   "execution_count": null,
   "metadata": {},
   "outputs": [],
   "source": [
    "plot_candles(goog_day_pricing, title='1 day candles', volume_bars=True)"
   ]
  },
  {
   "cell_type": "markdown",
   "metadata": {},
   "source": [
    "## Minute Candles"
   ]
  },
  {
   "cell_type": "code",
   "execution_count": null,
   "metadata": {},
   "outputs": [],
   "source": [
    "goog_minute_pricing = get_pricing('GOOG', start_date='2016-11-21', end_date='2016-11-21', frequency='minute')\n",
    "plot_candles(goog_minute_pricing[-60:], title='1 minute candles', volume_bars=True)"
   ]
  },
  {
   "cell_type": "markdown",
   "metadata": {},
   "source": [
    "## Adding Indicators"
   ]
  },
  {
   "cell_type": "code",
   "execution_count": null,
   "metadata": {},
   "outputs": [],
   "source": [
    "import talib\n",
    "last_hour = goog_minute_pricing[-60:]\n",
    "\n",
    "SMA = talib.SMA(last_hour['close_price'].as_matrix())\n",
    "plot_candles(last_hour,\n",
    "             title='1 minute candles + SMA',\n",
    "             overlays=[SMA])"
   ]
  },
  {
   "cell_type": "code",
   "execution_count": null,
   "metadata": {},
   "outputs": [],
   "source": [
    "upper, middle, lower = talib.BBANDS(last_hour['close_price'].as_matrix())\n",
    "plot_candles(last_hour,\n",
    "             title='1 minute candles + Bollinger Bands',\n",
    "             overlays=[upper, middle, lower])"
   ]
  },
  {
   "cell_type": "code",
   "execution_count": null,
   "metadata": {},
   "outputs": [],
   "source": [
    "RSI = talib.RSI(last_hour['close_price'].as_matrix())\n",
    "plot_candles(last_hour,\n",
    "             title='1 minute candles + Bollinger Bands + RSI',\n",
    "             overlays=[upper, middle, lower],\n",
    "             technicals=[RSI],\n",
    "             technicals_titles=['RSI'])"
   ]
  },
  {
   "cell_type": "markdown",
   "metadata": {},
   "source": [
    "## Custom color function: pattern highlighting"
   ]
  },
  {
   "cell_type": "code",
   "execution_count": null,
   "metadata": {},
   "outputs": [],
   "source": [
    "import talib\n",
    "last_hour = goog_minute_pricing[-60:]\n",
    "\n",
    "dojis = talib.CDLDOJI(last_hour['open_price'].as_matrix(),\n",
    "                      last_hour['high'].as_matrix(),\n",
    "                      last_hour['low'].as_matrix(),\n",
    "                      last_hour['close_price'].as_matrix())\n",
    "\n",
    "# Highlight all doji patterns with magenta else black\n",
    "# Custom colors can be especially uesful for debugging classifiers.\n",
    "def highlight_dojis(index, open_price, close_price, low, high):\n",
    "    return 'm' if dojis[index] else 'k'\n",
    "\n",
    "plot_candles(last_hour,\n",
    "             title='Doji patterns highlighted',\n",
    "             color_function=highlight_dojis)"
   ]
  }
 ],
 "metadata": {
  "kernelspec": {
   "display_name": "Python 2",
   "language": "python",
   "name": "python2"
  },
  "language_info": {
   "codemirror_mode": {
    "name": "ipython",
    "version": 2
   },
   "file_extension": ".py",
   "mimetype": "text/x-python",
   "name": "python",
   "nbconvert_exporter": "python",
   "pygments_lexer": "ipython2",
   "version": "2.7.12"
  }
 },
 "nbformat": 4,
 "nbformat_minor": 0
}
