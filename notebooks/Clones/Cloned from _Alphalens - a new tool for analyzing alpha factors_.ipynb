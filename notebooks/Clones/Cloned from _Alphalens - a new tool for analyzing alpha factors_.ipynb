{
 "cells": [
  {
   "cell_type": "markdown",
   "metadata": {},
   "source": [
    "# Alphalens + Quantopian | How To"
   ]
  },
  {
   "cell_type": "markdown",
   "metadata": {},
   "source": [
    "For more information on how to read and understand the plots look at:\n",
    "\n",
    "- [Example notebook](https://github.com/quantopian/alphalens/blob/master/alphalens/examples/tear_sheet_walk_through.ipynb) from the repo.\n",
    "- [Alphalens Docs](http://quantopian.github.io/alphalens) for an analysis of a professional alpha factor."
   ]
  },
  {
   "cell_type": "code",
   "execution_count": null,
   "metadata": {},
   "outputs": [],
   "source": [
    "import numpy as np\n",
    "from quantopian.research import run_pipeline\n",
    "from quantopian.pipeline import Pipeline\n",
    "from quantopian.pipeline.data.builtin import USEquityPricing\n",
    "from quantopian.pipeline.factors import CustomFactor, Returns, AverageDollarVolume\n",
    "from quantopian.pipeline.classifiers.morningstar import Sector\n",
    "from quantopian.pipeline.filters import Q500US"
   ]
  },
  {
   "cell_type": "code",
   "execution_count": null,
   "metadata": {},
   "outputs": [],
   "source": [
    "MORNINGSTAR_SECTOR_CODES = {\n",
    "     -1: 'Misc',\n",
    "    101: 'Basic Materials',\n",
    "    102: 'Consumer Cyclical',\n",
    "    103: 'Financial Services',\n",
    "    104: 'Real Estate',\n",
    "    205: 'Consumer Defensive',\n",
    "    206: 'Healthcare',\n",
    "    207: 'Utilities',\n",
    "    308: 'Communication Services',\n",
    "    309: 'Energy',\n",
    "    310: 'Industrials',\n",
    "    311: 'Technology' ,    \n",
    "}"
   ]
  },
  {
   "cell_type": "markdown",
   "metadata": {},
   "source": [
    "## Define our factor"
   ]
  },
  {
   "cell_type": "code",
   "execution_count": null,
   "metadata": {},
   "outputs": [],
   "source": [
    "class LowVol(CustomFactor):\n",
    "    inputs = [Returns(window_length=2)]\n",
    "    window_length = 25\n",
    "    \n",
    "    def compute(self, today, assets, out, close):\n",
    "        out[:] = -np.nanstd(close, axis=0)"
   ]
  },
  {
   "cell_type": "markdown",
   "metadata": {},
   "source": [
    "# Define our universe"
   ]
  },
  {
   "cell_type": "code",
   "execution_count": null,
   "metadata": {},
   "outputs": [],
   "source": [
    "universe = Q500US()"
   ]
  },
  {
   "cell_type": "markdown",
   "metadata": {},
   "source": [
    "## Create the Pipeline"
   ]
  },
  {
   "cell_type": "code",
   "execution_count": null,
   "metadata": {},
   "outputs": [],
   "source": [
    "pipe_low_vol = Pipeline(\n",
    "    columns={\n",
    "        'LowVol' : LowVol(mask=universe),\n",
    "        'Sector': Sector(mask=universe),\n",
    "    },\n",
    "    screen=universe\n",
    ")"
   ]
  },
  {
   "cell_type": "markdown",
   "metadata": {},
   "source": [
    "## Run the Pipeline"
   ]
  },
  {
   "cell_type": "code",
   "execution_count": null,
   "metadata": {},
   "outputs": [],
   "source": [
    "results = run_pipeline(pipe_low_vol, '2015-06-30', '2016-06-30')"
   ]
  },
  {
   "cell_type": "code",
   "execution_count": null,
   "metadata": {},
   "outputs": [],
   "source": [
    "results.head()"
   ]
  },
  {
   "cell_type": "markdown",
   "metadata": {},
   "source": [
    "## Get pricing"
   ]
  },
  {
   "cell_type": "code",
   "execution_count": null,
   "metadata": {},
   "outputs": [],
   "source": [
    "assets = results.index.levels[1].unique()\n",
    "# We need to get a little more pricing data than the \n",
    "# length of our factor so we can compare forward returns.\n",
    "# We'll tack on another month in this example.\n",
    "pricing = get_pricing(assets, start_date='2015-06-30', end_date='2016-07-31', fields='open_price')"
   ]
  },
  {
   "cell_type": "code",
   "execution_count": null,
   "metadata": {},
   "outputs": [],
   "source": [
    "pricing.head()"
   ]
  },
  {
   "cell_type": "markdown",
   "metadata": {},
   "source": [
    "## Use Alphalens to create a factor tear sheet"
   ]
  },
  {
   "cell_type": "code",
   "execution_count": null,
   "metadata": {},
   "outputs": [],
   "source": [
    "import alphalens\n",
    "\n",
    "factor_data = alphalens.utils.get_clean_factor_and_forward_returns(results['LowVol'],\n",
    "                                                                   pricing,\n",
    "                                                                   quantiles=5,\n",
    "                                                                   groupby=results['Sector'],\n",
    "                                                                   periods=(1,5,10))\n",
    "\n",
    "alphalens.tears.create_full_tear_sheet(factor_data)"
   ]
  },
  {
   "cell_type": "code",
   "execution_count": null,
   "metadata": {},
   "outputs": [],
   "source": []
  }
 ],
 "metadata": {
  "kernelspec": {
   "display_name": "Python 2",
   "language": "python",
   "name": "python2"
  },
  "language_info": {
   "codemirror_mode": {
    "name": "ipython",
    "version": 2
   },
   "file_extension": ".py",
   "mimetype": "text/x-python",
   "name": "python",
   "nbconvert_exporter": "python",
   "pygments_lexer": "ipython2",
   "version": "2.7.12"
  }
 },
 "nbformat": 4,
 "nbformat_minor": 1
}
