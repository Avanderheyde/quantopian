{
 "cells": [
  {
   "cell_type": "markdown",
   "metadata": {},
   "source": [
    "# Fundamental Factors\n",
    "#### Good Indicators\n",
    "###### FCF to EV +\n",
    "###### CapEx Vol +\n",
    "###### Debt to Total Assets +\n",
    "###### *capex and debt to assets highly correlated\n",
    "\n",
    "#### Bad Indicators\n",
    "###### Sales Size"
   ]
  },
  {
   "cell_type": "code",
   "execution_count": null,
   "metadata": {},
   "outputs": [],
   "source": [
    "import numpy as np\n",
    "import math\n",
    "from quantopian.research import run_pipeline\n",
    "from quantopian.pipeline import Pipeline\n",
    "from quantopian.pipeline.data.builtin import USEquityPricing\n",
    "from quantopian.pipeline.filters import QTradableStocksUS\n",
    "\n",
    "from quantopian.pipeline.factors import Latest\n",
    "from quantopian.pipeline.data import morningstar,Fundamentals\n",
    "from quantopian.pipeline.factors import CustomFactor, SimpleMovingAverage, AverageDollarVolume, SimpleBeta,Returns, RSI\n",
    "from quantopian.pipeline.classifiers.morningstar import Sector\n",
    "from quantopian.pipeline.classifiers.fundamentals import Sector\n",
    "from quantopian.pipeline.data.zacks import EarningsSurprises\n",
    "from quantopian.pipeline.data import factset\n",
    "from quantopian.pipeline.data.psychsignal import stocktwits\n",
    "\n",
    "#Python imports\n",
    "import math\n",
    "import talib\n",
    "import numpy as np\n",
    "import pandas as pd\n",
    "import pyfolio as pf\n",
    "from scipy import stats\n",
    "import matplotlib.pyplot as plt\n",
    "from sklearn import linear_model, decomposition, ensemble, preprocessing, isotonic, metrics\n",
    "from scipy.stats.mstats import winsorize\n",
    "from zipline.utils.numpy_utils import (\n",
    "    repeat_first_axis,\n",
    "    repeat_last_axis,\n",
    ")\n",
    "from scipy.stats.mstats import gmean\n",
    "\n",
    "bs = morningstar.balance_sheet\n",
    "cfs = morningstar.cash_flow_statement\n",
    "is_ = morningstar.income_statement\n",
    "or_ = morningstar.operation_ratios\n",
    "er = morningstar.earnings_report\n",
    "v = morningstar.valuation\n",
    "vr = morningstar.valuation_ratios"
   ]
  },
  {
   "cell_type": "markdown",
   "metadata": {},
   "source": [
    "# FCF to EV"
   ]
  },
  {
   "cell_type": "markdown",
   "metadata": {},
   "source": [
    "##### Free cash flow (FCF) is a measure of how much cash a company has on hand after all expenses are extracted. High FCF indicates that larger amounts of cash are available to the company for reinvestment. By dividing by a company’s enterprise value (EV), we can compute a ratio that shows how cash is generated per unit of the value of a company. In this implementation, we can test the idea that companies with a relatively higher ratio of FCF/EV are likely to outperform companies with relatively lower levels of FCF/EV."
   ]
  },
  {
   "cell_type": "code",
   "execution_count": null,
   "metadata": {},
   "outputs": [],
   "source": [
    "def make_pipeline():\n",
    "    ZSCORE_FILTER = 3 # Maximum number of standard deviations to include before counting as outliers\n",
    "    ZERO_FILTER = 0.001 # Minimum weight we allow before dropping security\n",
    "\n",
    "   # Setting up the variables\n",
    "    alpha_factor = factset.Fundamentals.free_cf_fcfe_qf.latest / \\\n",
    "                   factset.Fundamentals.entrpr_val_qf.latest\n",
    " \n",
    "    # Standardized logic for each input factor after this point\n",
    "    alpha_w = alpha_factor.winsorize(min_percentile=0.02,\n",
    "                                     max_percentile=0.98,\n",
    "                                     mask=QTradableStocksUS() & alpha_factor.isfinite())\n",
    " \n",
    "    alpha_z = alpha_w.zscore()\n",
    "    alpha_weight = alpha_z / 100.0\n",
    " \n",
    "    outlier_filter = alpha_z.abs() < 3\n",
    "    zero_filter = alpha_weight.abs() > 0.001\n",
    " \n",
    "    universe = QTradableStocksUS() & \\\n",
    "               outlier_filter & \\\n",
    "               zero_filter\n",
    "    \n",
    "    sector = Sector()\n",
    " \n",
    "    pipe = Pipeline(\n",
    "        columns={\n",
    "            'alpha_weight': alpha_weight,\n",
    "            'sector': sector,\n",
    "        },\n",
    "        screen=universe)\n",
    "        \n",
    "    return pipe\n",
    "    "
   ]
  },
  {
   "cell_type": "code",
   "execution_count": null,
   "metadata": {},
   "outputs": [],
   "source": [
    "result = run_pipeline(make_pipeline(), start_date='2015-01-01',end_date='2016-01-01')\n",
    "result.head()"
   ]
  },
  {
   "cell_type": "code",
   "execution_count": null,
   "metadata": {},
   "outputs": [],
   "source": [
    "assets = result.index.levels[1].unique()\n",
    "len(assets)"
   ]
  },
  {
   "cell_type": "code",
   "execution_count": null,
   "metadata": {},
   "outputs": [],
   "source": [
    "pricing_data = get_pricing(assets,start_date='2014-06-01',end_date='2016-06-01', fields='open_price')"
   ]
  },
  {
   "cell_type": "code",
   "execution_count": null,
   "metadata": {},
   "outputs": [],
   "source": [
    "import alphalens as al\n",
    "from alphalens.utils import get_clean_factor_and_forward_returns\n",
    "from alphalens.tears import create_full_tear_sheet\n",
    "\n",
    "sector_labels, sector_labels[-1] = dict(Sector.SECTOR_NAMES), \"Unknown\"\n",
    "\n",
    "factor_data = get_clean_factor_and_forward_returns(\n",
    "    result['alpha_weight'], # How to analyze a specific pipeline column with Alphalens\n",
    "    pricing_data,\n",
    "    quantiles = 2,\n",
    "    periods=(21,63,126),\n",
    "    groupby=result['sector'],\n",
    "    groupby_labels=sector_labels,\n",
    ")\n",
    "create_full_tear_sheet(factor_data=factor_data, by_group=True)"
   ]
  },
  {
   "cell_type": "markdown",
   "metadata": {},
   "source": [
    "# Debt to Total Assets"
   ]
  },
  {
   "cell_type": "markdown",
   "metadata": {},
   "source": [
    "##### The ratio of a company’s debt to its total assets is a measure of the amount of leverage taken on by a company. Higher values (above 1) indicate that a company has more liabilities than assets (aka you owe more than you own), while lower values (below 1) indicate that a company has more equity than debt. In this template, we’ve taken advantage of this measure to test the idea that companies with relatively lower levels of Debt to Total Assets are likely to outperform companies with relatively higher levels of Debt to Total Assets. "
   ]
  },
  {
   "cell_type": "code",
   "execution_count": null,
   "metadata": {},
   "outputs": [],
   "source": [
    "def make_pipeline():\n",
    "    ZSCORE_FILTER = 3 # Maximum number of standard deviations to include before counting as outliers\n",
    "    ZERO_FILTER = 0.001 # Minimum weight we allow before dropping security\n",
    "\n",
    "   # Setting up the variables\n",
    "    alpha_factor = -factset.Fundamentals.debt.latest / \\\n",
    "                    factset.Fundamentals.assets.latest\n",
    "    \n",
    "    # Standardized logic for each input factor after this point\n",
    "    alpha_w = alpha_factor.winsorize(min_percentile=0.02,\n",
    "                                     max_percentile=0.98,\n",
    "                                     mask=QTradableStocksUS() & alpha_factor.isfinite())\n",
    "    \n",
    "    alpha_z = alpha_w.zscore()\n",
    "    alpha_weight = alpha_z / 100.0\n",
    "    \n",
    "    outlier_filter = alpha_z.abs() < ZSCORE_FILTER\n",
    "    zero_filter = alpha_weight.abs() > ZERO_FILTER\n",
    " \n",
    "    universe = QTradableStocksUS() & \\\n",
    "               outlier_filter & \\\n",
    "               zero_filter\n",
    "    \n",
    "    sector = Sector()\n",
    " \n",
    "    pipe = Pipeline(\n",
    "        columns={\n",
    "            'alpha_weight': alpha_weight,\n",
    "            'sector': sector,\n",
    "        },\n",
    "        screen=universe\n",
    "    )\n",
    "    return pipe\n",
    "    "
   ]
  },
  {
   "cell_type": "code",
   "execution_count": null,
   "metadata": {},
   "outputs": [],
   "source": [
    "result = run_pipeline(make_pipeline(), start_date='2015-01-01',end_date='2016-01-01')\n",
    "result.head()"
   ]
  },
  {
   "cell_type": "code",
   "execution_count": null,
   "metadata": {},
   "outputs": [],
   "source": [
    "assets = result.index.levels[1].unique()\n",
    "len(assets)"
   ]
  },
  {
   "cell_type": "code",
   "execution_count": null,
   "metadata": {},
   "outputs": [],
   "source": [
    "pricing_data = get_pricing(assets,start_date='2014-05-01',end_date='2016-07-01', fields='open_price')"
   ]
  },
  {
   "cell_type": "code",
   "execution_count": null,
   "metadata": {},
   "outputs": [],
   "source": [
    "import alphalens as al\n",
    "from alphalens.utils import get_clean_factor_and_forward_returns\n",
    "from alphalens.tears import create_full_tear_sheet\n",
    "\n",
    "sector_labels, sector_labels[-1] = dict(Sector.SECTOR_NAMES), \"Unknown\"\n",
    "\n",
    "factor_data = get_clean_factor_and_forward_returns(\n",
    "    result['alpha_weight'], # How to analyze a specific pipeline column with Alphalens\n",
    "    pricing_data,\n",
    "    quantiles = 2,\n",
    "    periods=(21,63,126),\n",
    "    groupby=result['sector'],\n",
    "    groupby_labels=sector_labels,\n",
    ")\n",
    "create_full_tear_sheet(factor_data=factor_data, by_group=True)"
   ]
  },
  {
   "cell_type": "markdown",
   "metadata": {},
   "source": [
    "# CapEx Vol"
   ]
  },
  {
   "cell_type": "markdown",
   "metadata": {},
   "source": [
    "##### Cash flow volatility is a fairly well studied metric that is often considered a proxy for uncertainty at a firm level. In this template algorithm we've extended that idea to see if firms with relatively more volatile capital expenditures (e.g. spending on things like new buildings, plants, equipment, etc) are also more unpredictable and, by extension, riskier and more likely to underperform firms with lower relative capex volatility. For a bit more academic detail take a look at this SSRN paper."
   ]
  },
  {
   "cell_type": "code",
   "execution_count": null,
   "metadata": {},
   "outputs": [],
   "source": [
    "class TEM(CustomFactor):\n",
    "    \"\"\"\n",
    "    TEM = standard deviation of past 6 quarters' reports\n",
    "    \"\"\"\n",
    "    window_length = 390\n",
    "    def compute(self, today, assets, out, asof_date, capex, total_assets):\n",
    "        values = capex/total_assets\n",
    "        for column_ix in range(asof_date.shape[1]):\n",
    "            _, unique_indices = np.unique(asof_date[:, column_ix], return_index=True)\n",
    "            quarterly_values = values[unique_indices, column_ix]\n",
    "            if len(quarterly_values) < 6:\n",
    "                quarterly_values = np.hstack([\n",
    "                    np.repeat([np.nan], 6 - len(quarterly_values)),\n",
    "                    quarterly_values,\n",
    "                ])\n",
    "            out[column_ix] = np.std(quarterly_values[-6:])"
   ]
  },
  {
   "cell_type": "code",
   "execution_count": null,
   "metadata": {},
   "outputs": [],
   "source": [
    "def make_pipeline():\n",
    "    ZSCORE_FILTER = 3 # Maximum number of standard deviations to include before counting as outliers\n",
    "    ZERO_FILTER = 0.001 # Minimum weight we allow before dropping security\n",
    "    # Setting up the variables\n",
    "    capex_vol = TEM(\n",
    "        inputs=[factset.Fundamentals.capex_qf_asof_date,\n",
    "                factset.Fundamentals.capex_qf,\n",
    "                factset.Fundamentals.assets],\n",
    "        mask=QTradableStocksUS()\n",
    "    )\n",
    "    \n",
    "    alpha_factor = -capex_vol\n",
    "    \n",
    "    # Standardized logic for each input factor after this point\n",
    "    alpha_w = alpha_factor.winsorize(min_percentile=0.02,\n",
    "                                     max_percentile=0.98,\n",
    "                                     mask=alpha_factor.isfinite())\n",
    "    \n",
    "    alpha_z = alpha_w.zscore()\n",
    "    alpha_weight = alpha_z / 100.0\n",
    "    \n",
    "    outlier_filter = alpha_z.abs() < ZSCORE_FILTER\n",
    "    zero_filter = alpha_weight.abs() > ZERO_FILTER\n",
    " \n",
    "    universe = QTradableStocksUS() & \\\n",
    "               outlier_filter & \\\n",
    "               zero_filter\n",
    "    \n",
    "    sector = Sector()\n",
    " \n",
    "    pipe = Pipeline(\n",
    "        columns={\n",
    "            'alpha_weight': alpha_weight,\n",
    "            'sector': sector,\n",
    "        },\n",
    "        screen=universe\n",
    "    )\n",
    "    return pipe"
   ]
  },
  {
   "cell_type": "code",
   "execution_count": null,
   "metadata": {},
   "outputs": [],
   "source": [
    "result = run_pipeline(make_pipeline(), start_date='2015-01-01',end_date='2016-01-01')\n",
    "result.head()"
   ]
  },
  {
   "cell_type": "code",
   "execution_count": null,
   "metadata": {},
   "outputs": [],
   "source": [
    "assets = result.index.levels[1].unique()\n",
    "len(assets)"
   ]
  },
  {
   "cell_type": "code",
   "execution_count": null,
   "metadata": {},
   "outputs": [],
   "source": [
    "pricing_data = get_pricing(assets, start_date = '2014-05-01', end_date = '2016-07-01', fields = 'open_price')"
   ]
  },
  {
   "cell_type": "code",
   "execution_count": null,
   "metadata": {},
   "outputs": [],
   "source": [
    "import alphalens as al\n",
    "from alphalens.utils import get_clean_factor_and_forward_returns\n",
    "from alphalens.tears import create_full_tear_sheet\n",
    "\n",
    "sector_labels, sector_labels[-1] = dict(Sector.SECTOR_NAMES), \"Unknown\"\n",
    "\n",
    "factor_data = get_clean_factor_and_forward_returns(\n",
    "    result['alpha_weight'],\n",
    "    pricing_data,\n",
    "    quantiles = 2,\n",
    "    periods = (21,63,126),\n",
    "    groupby=result['sector'],\n",
    "    groupby_labels=sector_labels,\n",
    ")\n",
    "\n",
    "create_full_tear_sheet(factor_data=factor_data, by_group=True)"
   ]
  },
  {
   "cell_type": "markdown",
   "metadata": {},
   "source": [
    "###### Going Sector Neutral"
   ]
  },
  {
   "cell_type": "code",
   "execution_count": null,
   "metadata": {},
   "outputs": [],
   "source": [
    "factor_data = get_clean_factor_and_forward_returns(\n",
    "    result['alpha_weight'],\n",
    "    pricing_data,\n",
    "    periods = (21,63,126),\n",
    "    groupby=result['sector'],\n",
    "    groupby_labels=sector_labels,\n",
    "    binning_by_group=True,\n",
    ")\n",
    "\n",
    "create_full_tear_sheet(factor_data=factor_data, by_group=True,group_neutral=True)"
   ]
  },
  {
   "cell_type": "markdown",
   "metadata": {},
   "source": [
    "# Sales Size"
   ]
  },
  {
   "cell_type": "markdown",
   "metadata": {},
   "source": [
    "##### This is a valuation metric. We expect companies that generate more revenue per dollar of market cap to generate outsized returns compared to a company of comparable size that generates less revenue. Our factor is calculated as the sale of revenue from goods and services over the last twelve months divided by market cap. We would naturally expect larger companies to generate more raw sales revenue than smaller companies, so we try to remove that from the equation and get at pure value."
   ]
  },
  {
   "cell_type": "code",
   "execution_count": null,
   "metadata": {},
   "outputs": [],
   "source": [
    "def make_pipeline():\n",
    "    OUTLIER_THRESHOLD = 3 # Maximum zscore that is not an outlier\n",
    "    ZERO_THRESHOLD = 0.1 # Minimum zscore we allow before dropping security\n",
    "    # Setting up the variables\n",
    "    revenue_ltm = factset.Fundamentals.sales_ltm.latest/\\\n",
    "                  factset.Fundamentals.mkt_val_public.latest\n",
    "    alpha_factor = revenue_ltm.log()\n",
    "    \n",
    "    # Standardized logic for each input factor after this point\n",
    "    alpha_w = alpha_factor.winsorize(\n",
    "        min_percentile=0.02,\n",
    "        max_percentile=0.98,\n",
    "        mask=QTradableStocksUS() & (revenue_ltm > 0) & alpha_factor.isfinite()\n",
    "    )\n",
    "    alpha_z = alpha_w.zscore()\n",
    "    \n",
    "    outlier_filter = alpha_z.abs() < OUTLIER_THRESHOLD\n",
    "    non_zero_filter = alpha_z.abs() > ZERO_THRESHOLD\n",
    "    \n",
    "    universe = QTradableStocksUS() & \\\n",
    "               outlier_filter & \\\n",
    "               non_zero_filter\n",
    "    \n",
    "    sector = Sector()\n",
    " \n",
    "    pipe = Pipeline(\n",
    "        columns={\n",
    "            'alpha_z': alpha_z,\n",
    "            'sector': sector,\n",
    "        },\n",
    "        screen=universe\n",
    "    )\n",
    "    return pipe\n"
   ]
  },
  {
   "cell_type": "code",
   "execution_count": null,
   "metadata": {},
   "outputs": [],
   "source": [
    "result = run_pipeline(make_pipeline(), start_date = '2015-01-01', end_date = '2016-01-01')\n",
    "result.head()"
   ]
  },
  {
   "cell_type": "code",
   "execution_count": null,
   "metadata": {},
   "outputs": [],
   "source": [
    "assets = result.index.levels[1].unique()\n",
    "len(assets)"
   ]
  },
  {
   "cell_type": "code",
   "execution_count": null,
   "metadata": {},
   "outputs": [],
   "source": [
    "pricing_data = get_pricing(assets, start_date = '2014-06-01', end_date = '2016-07-01', fields = 'open_price')"
   ]
  },
  {
   "cell_type": "code",
   "execution_count": null,
   "metadata": {},
   "outputs": [],
   "source": [
    "import alphalens as al\n",
    "from alphalens.utils import get_clean_factor_and_forward_returns\n",
    "from alphalens.tears import create_full_tear_sheet\n",
    "\n",
    "sector_labels, sector_labels[-1] = dict(Sector.SECTOR_NAMES), \"Unknown\"\n",
    "\n",
    "factor_data = get_clean_factor_and_forward_returns(\n",
    "    result['alpha_z'],\n",
    "    pricing_data, \n",
    "    quantiles = 2, \n",
    "    periods = (21,63,126),\n",
    "    groupby=result['sector'],\n",
    "    groupby_labels=sector_labels,\n",
    ")\n",
    "\n",
    "create_full_tear_sheet(factor_data=factor_data, by_group=True)"
   ]
  },
  {
   "cell_type": "code",
   "execution_count": null,
   "metadata": {},
   "outputs": [],
   "source": [
    "from alphalens.performance import mean_information_coefficient\n",
    "mean_information_coefficient(factor_data).plot(title=\"IC Decay\");"
   ]
  },
  {
   "cell_type": "markdown",
   "metadata": {},
   "source": [
    "# Combination"
   ]
  },
  {
   "cell_type": "code",
   "execution_count": null,
   "metadata": {},
   "outputs": [],
   "source": [
    "def make_pipeline():\n",
    "    ZSCORE_FILTER = 3 # Maximum number of standard deviations to include before counting as outliers\n",
    "    ZERO_FILTER = 0.001 # Minimum weight we allow before dropping security\n",
    "    \n",
    "    # ALPHA FACTOR 1\n",
    "    alpha_factor1 = factset.Fundamentals.free_cf_fcfe_qf.latest / \\\n",
    "                   factset.Fundamentals.entrpr_val_qf.latest\n",
    " \n",
    "    # Standardized logic for each input factor after this point\n",
    "    alpha_w1 = alpha_factor1.winsorize(min_percentile=0.02,\n",
    "                                     max_percentile=0.98,\n",
    "                                     mask=QTradableStocksUS() & alpha_factor1.isfinite())\n",
    " \n",
    "    alpha_z1 = alpha_w1.zscore()\n",
    "    alpha_weight1 = alpha_z1 / 100.0\n",
    " \n",
    "    outlier_filter1 = alpha_z1.abs() < 3\n",
    "    zero_filter1 = alpha_weight1.abs() > 0.001\n",
    " \n",
    "    universe1 = QTradableStocksUS() & \\\n",
    "               outlier_filter1 & \\\n",
    "               zero_filter1\n",
    "    \n",
    "    # ALPHA FACTOR 2\n",
    "    alpha_factor2 = -factset.Fundamentals.debt.latest / \\\n",
    "                    factset.Fundamentals.assets.latest\n",
    "    \n",
    "    # Standardized logic for each input factor after this point\n",
    "    alpha_w2 = alpha_factor2.winsorize(min_percentile=0.02,\n",
    "                                     max_percentile=0.98,\n",
    "                                     mask=QTradableStocksUS() & alpha_factor2.isfinite())\n",
    "    \n",
    "    alpha_z2 = alpha_w2.zscore()\n",
    "    alpha_weight2 = alpha_z2 / 100.0\n",
    "    \n",
    "    outlier_filter2 = alpha_z2.abs() < ZSCORE_FILTER\n",
    "    zero_filter2 = alpha_weight2.abs() > ZERO_FILTER\n",
    " \n",
    "    universe2 = QTradableStocksUS() & \\\n",
    "               outlier_filter2 & \\\n",
    "               zero_filter2\n",
    " \n",
    "    # ALPHA FACTOR 3\n",
    "    capex_vol = TEM(\n",
    "        inputs=[factset.Fundamentals.capex_qf_asof_date,\n",
    "                factset.Fundamentals.capex_qf,\n",
    "                factset.Fundamentals.assets],\n",
    "        mask=QTradableStocksUS()\n",
    "    )\n",
    "    \n",
    "    alpha_factor3 = -capex_vol\n",
    "    \n",
    "    # Standardized logic for each input factor after this point\n",
    "    alpha_w3 = alpha_factor3.winsorize(min_percentile=0.02,\n",
    "                                     max_percentile=0.98,\n",
    "                                     mask=alpha_factor3.isfinite())\n",
    "    \n",
    "    alpha_z3 = alpha_w3.zscore()\n",
    "    alpha_weight3 = alpha_z3 / 100.0\n",
    "    \n",
    "    outlier_filter3 = alpha_z3.abs() < ZSCORE_FILTER\n",
    "    zero_filter3 = alpha_weight3.abs() > ZERO_FILTER\n",
    " \n",
    "    universe3 = QTradableStocksUS() & \\\n",
    "               outlier_filter3 & \\\n",
    "               zero_filter3\n",
    "    \n",
    "#    universe = (QTradableStocksUS() \n",
    "#               & testing_factor1.notnull()\n",
    " #               & testing_factor2.notnull()\n",
    "  #              & testing_factor3.notnull())\n",
    "\n",
    "    OUTLIER_THRESHOLD = 3 # Maximum zscore that is not an outlier\n",
    "    ZERO_THRESHOLD = 0.1 # Minimum zscore we allow before dropping security\n",
    "    # ALPHA FACTOR 4\n",
    "    revenue_ltm = factset.Fundamentals.sales_ltm.latest/\\\n",
    "                  factset.Fundamentals.mkt_val_public.latest\n",
    "    alpha_factor4 = revenue_ltm.log()\n",
    "    \n",
    "    # Standardized logic for each input factor after this point\n",
    "    alpha_w4 = alpha_factor4.winsorize(\n",
    "        min_percentile=0.02,\n",
    "        max_percentile=0.98,\n",
    "        mask=QTradableStocksUS() & (revenue_ltm > 0) & alpha_factor4.isfinite()\n",
    "    )\n",
    "    alpha_z4 = alpha_w4.zscore()\n",
    "    alpha_weight4 = alpha_z4 /100\n",
    "    \n",
    "    outlier_filter4 = alpha_z4.abs() < OUTLIER_THRESHOLD\n",
    "    non_zero_filter4 = alpha_z4.abs() > ZERO_THRESHOLD\n",
    "    \n",
    "    universe4 = QTradableStocksUS() & \\\n",
    "               outlier_filter4 & \\\n",
    "               non_zero_filter4\n",
    "    \n",
    "    universe = universe1 & universe2 & universe3 & universe4\n",
    "    \n",
    "    alpha_weight = alpha_weight1 + alpha_weight2 + alpha_weight3 + alpha_weight4\n",
    "    \n",
    "    testing_quantiles = alpha_weight.quantiles(2)\n",
    "    \n",
    "    pipe = Pipeline(\n",
    "        columns={\n",
    "            'alpha_weight': alpha_weight,\n",
    "            'shorts':testing_quantiles.eq(0),\n",
    "            'longs':testing_quantiles.eq(1),\n",
    "        },\n",
    "        screen=universe\n",
    "    )\n",
    "    return pipe\n",
    "    "
   ]
  },
  {
   "cell_type": "code",
   "execution_count": null,
   "metadata": {},
   "outputs": [],
   "source": [
    "result = run_pipeline(make_pipeline(), start_date = '2015-01-01', end_date = '2016-01-01')\n",
    "result.head()"
   ]
  },
  {
   "cell_type": "code",
   "execution_count": null,
   "metadata": {},
   "outputs": [],
   "source": [
    "assets = result.index.levels[1].unique()\n",
    "len(assets)"
   ]
  },
  {
   "cell_type": "code",
   "execution_count": null,
   "metadata": {},
   "outputs": [],
   "source": [
    "pricing_data = get_pricing(assets, start_date = '2014-05-01', end_date = '2016-08-01', fields = 'open_price')"
   ]
  },
  {
   "cell_type": "code",
   "execution_count": null,
   "metadata": {},
   "outputs": [],
   "source": [
    "import alphalens as al\n",
    "from alphalens.utils import get_clean_factor_and_forward_returns\n",
    "from alphalens.tears import create_full_tear_sheet\n",
    "\n",
    "factor_data = get_clean_factor_and_forward_returns(\n",
    "    result['alpha_weight'],\n",
    "    pricing_data,\n",
    "    quantiles = 2,\n",
    "    periods = (21,63,126))\n",
    "\n",
    "create_full_tear_sheet(factor_data = factor_data)"
   ]
  },
  {
   "cell_type": "markdown",
   "metadata": {},
   "source": [
    "# Correlation of Factors"
   ]
  },
  {
   "cell_type": "code",
   "execution_count": null,
   "metadata": {},
   "outputs": [],
   "source": [
    "def make_pipeline():\n",
    "    ZSCORE_FILTER = 3 # Maximum number of standard deviations to include before counting as outliers\n",
    "    ZERO_FILTER = 0.001 # Minimum weight we allow before dropping security\n",
    "    \n",
    "    # ALPHA FACTOR 1\n",
    "    alpha_factor1 = factset.Fundamentals.free_cf_fcfe_qf.latest / \\\n",
    "                   factset.Fundamentals.entrpr_val_qf.latest\n",
    " \n",
    "    # Standardized logic for each input factor after this point\n",
    "    alpha_w1 = alpha_factor1.winsorize(min_percentile=0.02,\n",
    "                                     max_percentile=0.98,\n",
    "                                     mask=QTradableStocksUS() & alpha_factor1.isfinite())\n",
    " \n",
    "    alpha_z1 = alpha_w1.zscore()\n",
    "    alpha_weight1 = alpha_z1 / 100.0\n",
    " \n",
    "    outlier_filter1 = alpha_z1.abs() < 3\n",
    "    zero_filter1 = alpha_weight1.abs() > 0.001\n",
    " \n",
    "    universe1 = QTradableStocksUS() & \\\n",
    "               outlier_filter1 & \\\n",
    "               zero_filter1\n",
    "    \n",
    "    # ALPHA FACTOR 2\n",
    "    alpha_factor2 = -factset.Fundamentals.debt.latest / \\\n",
    "                    factset.Fundamentals.assets.latest\n",
    "    \n",
    "    # Standardized logic for each input factor after this point\n",
    "    alpha_w2 = alpha_factor2.winsorize(min_percentile=0.02,\n",
    "                                     max_percentile=0.98,\n",
    "                                     mask=QTradableStocksUS() & alpha_factor2.isfinite())\n",
    "    \n",
    "    alpha_z2 = alpha_w2.zscore()\n",
    "    alpha_weight2 = alpha_z2 / 100.0\n",
    "    \n",
    "    outlier_filter2 = alpha_z2.abs() < ZSCORE_FILTER\n",
    "    zero_filter2 = alpha_weight2.abs() > ZERO_FILTER\n",
    " \n",
    "    universe2 = QTradableStocksUS() & \\\n",
    "               outlier_filter2 & \\\n",
    "               zero_filter2\n",
    " \n",
    "    # ALPHA FACTOR 3\n",
    "    capex_vol = TEM(\n",
    "        inputs=[factset.Fundamentals.capex_qf_asof_date,\n",
    "                factset.Fundamentals.capex_qf,\n",
    "                factset.Fundamentals.assets],\n",
    "        mask=QTradableStocksUS()\n",
    "    )\n",
    "    \n",
    "    alpha_factor3 = -capex_vol\n",
    "    \n",
    "    # Standardized logic for each input factor after this point\n",
    "    alpha_w3 = alpha_factor3.winsorize(min_percentile=0.02,\n",
    "                                     max_percentile=0.98,\n",
    "                                     mask=alpha_factor3.isfinite())\n",
    "    \n",
    "    alpha_z3 = alpha_w3.zscore()\n",
    "    alpha_weight3 = alpha_z3 / 100.0\n",
    "    \n",
    "    outlier_filter3 = alpha_z3.abs() < ZSCORE_FILTER\n",
    "    zero_filter3 = alpha_weight3.abs() > ZERO_FILTER\n",
    " \n",
    "    universe3 = QTradableStocksUS() & \\\n",
    "               outlier_filter3 & \\\n",
    "               zero_filter3\n",
    "    \n",
    "#    universe = (QTradableStocksUS() \n",
    "#               & testing_factor1.notnull()\n",
    " #               & testing_factor2.notnull()\n",
    "  #              & testing_factor3.notnull())\n",
    "\n",
    "    OUTLIER_THRESHOLD = 3 # Maximum zscore that is not an outlier\n",
    "    ZERO_THRESHOLD = 0.1 # Minimum zscore we allow before dropping security\n",
    "    # ALPHA FACTOR 4\n",
    "    revenue_ltm = factset.Fundamentals.sales_ltm.latest/\\\n",
    "                  factset.Fundamentals.mkt_val_public.latest\n",
    "    alpha_factor4 = revenue_ltm.log()\n",
    "    \n",
    "    # Standardized logic for each input factor after this point\n",
    "    alpha_w4 = alpha_factor4.winsorize(\n",
    "        min_percentile=0.02,\n",
    "        max_percentile=0.98,\n",
    "        mask=QTradableStocksUS() & (revenue_ltm > 0) & alpha_factor4.isfinite()\n",
    "    )\n",
    "    alpha_z4 = alpha_w4.zscore()\n",
    "    alpha_weight4 = alpha_z4 /100\n",
    "    \n",
    "    outlier_filter4 = alpha_z4.abs() < OUTLIER_THRESHOLD\n",
    "    non_zero_filter4 = alpha_z4.abs() > ZERO_THRESHOLD\n",
    "    \n",
    "    universe4 = QTradableStocksUS() & \\\n",
    "               outlier_filter4 & \\\n",
    "               non_zero_filter4\n",
    "    \n",
    "    universe = universe1 & universe2 & universe3 & universe4\n",
    "    \n",
    "    alpha_weight = alpha_weight1 + alpha_weight2 + alpha_weight3 + alpha_weight4\n",
    "    \n",
    "    testing_quantiles = alpha_weight.quantiles(2)\n",
    "    \n",
    "    pipe = Pipeline(\n",
    "        columns={\n",
    "            'alpha_weight': alpha_weight,\n",
    "            'fcf_to_ev': alpha_weight1,\n",
    "            'debt_to_assets': alpha_weight2,\n",
    "            'capex_vol':alpha_weight3,\n",
    "            'sales_size': alpha_weight4,\n",
    "            'sector': Sector(mask=universe),\n",
    "        },\n",
    "        screen=universe\n",
    "    )\n",
    "    return pipe\n",
    "    "
   ]
  },
  {
   "cell_type": "code",
   "execution_count": null,
   "metadata": {},
   "outputs": [],
   "source": [
    "result = run_pipeline(make_pipeline(), start_date = '2015-01-01', end_date = '2016-01-01')\n",
    "result = result.dropna()\n",
    "result.head()"
   ]
  },
  {
   "cell_type": "code",
   "execution_count": null,
   "metadata": {},
   "outputs": [],
   "source": [
    "assets = result.index.levels[1].unique()\n",
    "len(assets)"
   ]
  },
  {
   "cell_type": "code",
   "execution_count": null,
   "metadata": {},
   "outputs": [],
   "source": [
    "pricing_data = get_pricing(assets, start_date = '2014-06-01', end_date = '2016-07-01', fields='open_price')"
   ]
  },
  {
   "cell_type": "code",
   "execution_count": null,
   "metadata": {},
   "outputs": [],
   "source": [
    "import alphalens as al\n",
    "\n",
    "sector_labels = dict(Sector.SECTOR_NAMES)\n",
    "sector_labels[-1] = \"Unknown\" # no dataset is perfect, better handle the unexpected"
   ]
  },
  {
   "cell_type": "code",
   "execution_count": null,
   "metadata": {},
   "outputs": [],
   "source": [
    "factor1_data = al.utils.get_clean_factor_and_forward_returns(\n",
    "    result[\"fcf_to_ev\"],\n",
    "    pricing_data,\n",
    "    groupby=result[\"sector\"],\n",
    "    quantiles=5,\n",
    "    periods=(21, 63, 126)\n",
    ")\n",
    "\n",
    "factor2_data = al.utils.get_clean_factor_and_forward_returns(\n",
    "    result[\"debt_to_assets\"],\n",
    "    pricing_data,\n",
    "    groupby=result[\"sector\"],\n",
    "    quantiles=5,\n",
    "    periods=(21, 63, 126)\n",
    ")\n",
    "\n",
    "factor3_data = al.utils.get_clean_factor_and_forward_returns(\n",
    "    result[\"capex_vol\"],\n",
    "    pricing_data,\n",
    "    groupby=result[\"sector\"],\n",
    "    quantiles=5,\n",
    "    periods=(21, 63, 126)\n",
    ")\n",
    "\n",
    "factor4_data = al.utils.get_clean_factor_and_forward_returns(\n",
    "    result[\"sales_size\"],\n",
    "    pricing_data,\n",
    "    groupby=result[\"sector\"],\n",
    "    quantiles=5,\n",
    "    periods=(21, 63, 126)\n",
    ")"
   ]
  },
  {
   "cell_type": "code",
   "execution_count": null,
   "metadata": {},
   "outputs": [],
   "source": [
    "factor1_returns, factor1_positions, factor1_benchmark = \\\n",
    "    al.performance.create_pyfolio_input(factor1_data,\n",
    "                                        period='63D',\n",
    "                                        capital=1000000,\n",
    "                                        long_short=True,\n",
    "                                        group_neutral=False,\n",
    "                                        equal_weight=True,\n",
    "                                        quantiles=[1,5],\n",
    "                                        groups=None,\n",
    "                                        benchmark_period='21D')\n",
    "\n",
    "factor2_returns, factor2_positions, factor2_benchmark = \\\n",
    "    al.performance.create_pyfolio_input(factor2_data,\n",
    "                                        period='63D',\n",
    "                                        capital=1000000,\n",
    "                                        long_short=True,\n",
    "                                        group_neutral=False,\n",
    "                                        equal_weight=True,\n",
    "                                        quantiles=[1,5],\n",
    "                                        groups=None,\n",
    "                                        benchmark_period='21D')\n",
    "\n",
    "factor3_returns, factor3_positions, factor3_benchmark = \\\n",
    "    al.performance.create_pyfolio_input(factor3_data,\n",
    "                                        period='63D',\n",
    "                                        capital=1000000,\n",
    "                                        long_short=True,\n",
    "                                        group_neutral=False,\n",
    "                                        equal_weight=True,\n",
    "                                        quantiles=[1,5],\n",
    "                                        groups=None,\n",
    "                                        benchmark_period='21D')\n",
    "\n",
    "factor4_returns, factor4_positions, factor4_benchmark = \\\n",
    "    al.performance.create_pyfolio_input(factor4_data,\n",
    "                                        period='63D',\n",
    "                                        capital=1000000,\n",
    "                                        long_short=True,\n",
    "                                        group_neutral=False,\n",
    "                                        equal_weight=True,\n",
    "                                        quantiles=[1,5],\n",
    "                                        groups=None,\n",
    "                                        benchmark_period='21D')"
   ]
  },
  {
   "cell_type": "code",
   "execution_count": null,
   "metadata": {},
   "outputs": [],
   "source": [
    "import matplotlib.pyplot as plt\n",
    "factor1_returns.plot()\n",
    "factor2_returns.plot()\n",
    "factor3_returns.plot()\n",
    "factor4_returns.plot()\n",
    "plt.ylabel('Returns')\n",
    "plt.legend(['Factor1', 'Factor2', 'Factor3','Factor4']);"
   ]
  },
  {
   "cell_type": "markdown",
   "metadata": {},
   "source": [
    "##### Analysis of Correlations: \n",
    "###### FCF_to_Ev not correlated to debt_to_assets, somewhat correlated to CapexVol and Salessize\n",
    "###### Debt_to_assets highly positvely correlated to CapexVol \n",
    "###### Debt to assets highly negatively correlated to sales size\n",
    "###### CapexVol highly negatively correlated to Sales size\n",
    "\n",
    "###### Keep FCF_to_EV, Sales_Size(negative correlated is that good?)\n",
    "###### Decide between Debt to Assets or Capex Vol\n",
    "\n",
    "\n"
   ]
  }
 ],
 "metadata": {
  "kernelspec": {
   "display_name": "Python 2",
   "language": "python",
   "name": "python2"
  },
  "language_info": {
   "codemirror_mode": {
    "name": "ipython",
    "version": 2
   },
   "file_extension": ".py",
   "mimetype": "text/x-python",
   "name": "python",
   "nbconvert_exporter": "python",
   "pygments_lexer": "ipython2",
   "version": "2.7.12"
  }
 },
 "nbformat": 4,
 "nbformat_minor": 2
}
