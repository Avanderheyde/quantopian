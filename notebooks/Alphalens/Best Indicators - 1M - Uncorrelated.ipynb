{
 "cells": [
  {
   "cell_type": "markdown",
   "metadata": {},
   "source": [
    "# Checking for Correlation\n",
    "###### https://www.quantopian.com/posts/checking-correlation-and-risk-exposure-of-alpha-factors"
   ]
  },
  {
   "cell_type": "markdown",
   "metadata": {},
   "source": [
    "### Screens\n",
    "#### Value \n",
    "###### EV/EBITDA\n",
    "#### Quality\n",
    "###### Long term FCF generation\n",
    "###### Long term ROIC\n",
    "###### Long term margin characteristics\n",
    "###### Piotroski's F-score\n",
    "\n"
   ]
  },
  {
   "cell_type": "markdown",
   "metadata": {},
   "source": [
    "### TECHNICAL INDICATOR ANALYSIS\n",
    "###### Momentum +\n",
    "###### advanced Momentum +\n",
    "###### Alpha Architect Momentum +\n",
    "###### Trendline +\n",
    "###### Volatility +\n",
    "###### TEM +\n",
    "###### MaxGap -\n",
    "### More TA-Lib Indicators\n",
    "###### LINEARREG_INTERCEPT +\n",
    "###### MEDPRICE +\n",
    "###### TRANGE +\n",
    "###### TYPPRICE +\n",
    "###### MINUS_DM +\n",
    "###### PLUS_DM +\n",
    "###### Price oscillator +\n",
    "###### Mean Rev 1M -\n",
    "###### Volatility 3M -\n",
    "###### ADX - \n",
    "###### DX - \n",
    "### Fundamental Factors\n",
    "###### FCF to EV +\n",
    "###### CapEx Vol +\n",
    "###### Debt to Total Assets +\n",
    "###### *capex and debt to assets highly correlated"
   ]
  },
  {
   "cell_type": "code",
   "execution_count": null,
   "metadata": {},
   "outputs": [],
   "source": []
  },
  {
   "cell_type": "code",
   "execution_count": null,
   "metadata": {},
   "outputs": [],
   "source": []
  },
  {
   "cell_type": "code",
   "execution_count": null,
   "metadata": {},
   "outputs": [],
   "source": [
    "def make_factors():\n",
    "    \n",
    "    \n",
    "        \n",
    "    all_factors = {\n",
    "        'Mean Reversion 1M': Mean_Reversion_1M,\n",
    "        'Price Momentum 3M': Price_Momentum_3M,\n",
    "        'Price Oscillator': Price_Oscillator,\n",
    "        'Trendline': Trendline,\n",
    "        'Vol 3M': Vol_3M,\n",
    "    }        \n",
    "    \n",
    "    return all_factors"
   ]
  },
  {
   "cell_type": "markdown",
   "metadata": {},
   "source": [
    "#### Make Pipeline"
   ]
  },
  {
   "cell_type": "code",
   "execution_count": null,
   "metadata": {},
   "outputs": [],
   "source": [
    "n_fwd_days = 5 # number of days to compute returns over\n",
    "\n",
    "def make_pipeline():\n",
    "    \n",
    "    pipe_cols= None\n",
    "    pipe_cols = {}\n",
    "    \n",
    "    # Value filter\n",
    "    #value = morningstar.valuation_ratios.ev_to_ebitda.latest\n",
    "    #market_cap = morningstar.valuation.market_cap.latest > 2e9 \n",
    "    #undervalued = value.bottom(50, mask = (QTradableStocksUS() & market_cap))  \n",
    "    \n",
    "    # Before we do any other ranking, we want to throw away the bad assets.\n",
    "    initial_screen = QTradeableUS()\n",
    "    \n",
    "    ## Test Factor\n",
    "    factors = make_factors()\n",
    "    # Call .rank() on all factors and mask out the universe\n",
    "    pipe_cols = {name: f().rank(mask=initial_screen) for name, f in factors.iteritems()}\n",
    "    \n",
    "    ## Combine all the alphas to make 1 mega-alpha\n",
    "    mega_alpha = 0\n",
    "    for iAlpha in pipe_cols:\n",
    "        mega_alpha += pipe_cols[iAlpha]\n",
    "    pipe_cols['test_alpha'] = mega_alpha\n",
    "        \n",
    "    ## Make Long and short quantiles\n",
    "    alpha_quantiles = mega_alpha.quantiles(3)\n",
    "    pipe_cols['shorts'] = alpha_quantiles.eq(0)\n",
    "    pipe_cols['longs'] = alpha_quantiles.eq(2)\n",
    "    \n",
    "    # Get cumulative returns over last n_fwd_days days. We will later shift these.\n",
    "    pipe_cols['Returns'] = Returns(inputs=[USEquityPricing.open],\n",
    "                                      mask=initial_screen, window_length=n_fwd_days)\n",
    "    \n",
    "    ## Add Sector data\n",
    "    pipe_cols['Sector'] = Sector(mask=initial_screen)\n",
    "    \n",
    "    ## Return the new pipeline\n",
    "    return Pipeline(columns=pipe_cols, screen=initial_screen)"
   ]
  },
  {
   "cell_type": "code",
   "execution_count": null,
   "metadata": {},
   "outputs": [],
   "source": [
    "result = run_pipeline(make_pipeline(), start_date = '2015-01-01', end_date = '2016-01-01')\n",
    "result = result.dropna()\n",
    "result.head()"
   ]
  },
  {
   "cell_type": "code",
   "execution_count": null,
   "metadata": {},
   "outputs": [],
   "source": [
    "assets = result.index.levels[1].unique()\n",
    "len(assets)"
   ]
  },
  {
   "cell_type": "code",
   "execution_count": null,
   "metadata": {},
   "outputs": [],
   "source": [
    "pricing_data = get_pricing(assets, start_date = '2014-06-01', end_date = '2016-07-01', fields='open_price')"
   ]
  },
  {
   "cell_type": "code",
   "execution_count": null,
   "metadata": {},
   "outputs": [],
   "source": [
    "import alphalens as al\n",
    "\n",
    "sector_labels = dict(Sector.SECTOR_NAMES)\n",
    "sector_labels[-1] = \"Unknown\" # no dataset is perfect, better handle the unexpected"
   ]
  },
  {
   "cell_type": "markdown",
   "metadata": {},
   "source": [
    "##### Get clean factor and forward return for all factors"
   ]
  },
  {
   "cell_type": "code",
   "execution_count": null,
   "metadata": {},
   "outputs": [],
   "source": [
    "factor1_data = al.utils.get_clean_factor_and_forward_returns(\n",
    "    result[\"fcf_to_ev\"],\n",
    "    pricing_data,\n",
    "    groupby=result[\"sector\"],\n",
    "    quantiles=5,\n",
    "    periods=(21, 63, 126)\n",
    ")\n",
    "\n",
    "factor2_data = al.utils.get_clean_factor_and_forward_returns(\n",
    "    result[\"debt_to_assets\"],\n",
    "    pricing_data,\n",
    "    groupby=result[\"sector\"],\n",
    "    quantiles=5,\n",
    "    periods=(21, 63, 126)\n",
    ")\n",
    "\n",
    "factor3_data = al.utils.get_clean_factor_and_forward_returns(\n",
    "    result[\"capex_vol\"],\n",
    "    pricing_data,\n",
    "    groupby=result[\"sector\"],\n",
    "    quantiles=5,\n",
    "    periods=(21, 63, 126)\n",
    ")\n",
    "\n",
    "factor4_data = al.utils.get_clean_factor_and_forward_returns(\n",
    "    result[\"sales_size\"],\n",
    "    pricing_data,\n",
    "    groupby=result[\"sector\"],\n",
    "    quantiles=5,\n",
    "    periods=(21, 63, 126)\n",
    ")"
   ]
  },
  {
   "cell_type": "code",
   "execution_count": null,
   "metadata": {},
   "outputs": [],
   "source": [
    "factor1_returns, factor1_positions, factor1_benchmark = \\\n",
    "    al.performance.create_pyfolio_input(factor1_data,\n",
    "                                        period='63D',\n",
    "                                        capital=1000000,\n",
    "                                        long_short=True,\n",
    "                                        group_neutral=False,\n",
    "                                        equal_weight=True,\n",
    "                                        quantiles=[1,5],\n",
    "                                        groups=None,\n",
    "                                        benchmark_period='21D')\n",
    "\n",
    "factor2_returns, factor2_positions, factor2_benchmark = \\\n",
    "    al.performance.create_pyfolio_input(factor2_data,\n",
    "                                        period='63D',\n",
    "                                        capital=1000000,\n",
    "                                        long_short=True,\n",
    "                                        group_neutral=False,\n",
    "                                        equal_weight=True,\n",
    "                                        quantiles=[1,5],\n",
    "                                        groups=None,\n",
    "                                        benchmark_period='21D')\n",
    "\n",
    "factor3_returns, factor3_positions, factor3_benchmark = \\\n",
    "    al.performance.create_pyfolio_input(factor3_data,\n",
    "                                        period='63D',\n",
    "                                        capital=1000000,\n",
    "                                        long_short=True,\n",
    "                                        group_neutral=False,\n",
    "                                        equal_weight=True,\n",
    "                                        quantiles=[1,5],\n",
    "                                        groups=None,\n",
    "                                        benchmark_period='21D')\n",
    "\n",
    "factor4_returns, factor4_positions, factor4_benchmark = \\\n",
    "    al.performance.create_pyfolio_input(factor4_data,\n",
    "                                        period='63D',\n",
    "                                        capital=1000000,\n",
    "                                        long_short=True,\n",
    "                                        group_neutral=False,\n",
    "                                        equal_weight=True,\n",
    "                                        quantiles=[1,5],\n",
    "                                        groups=None,\n",
    "                                        benchmark_period='21D')"
   ]
  },
  {
   "cell_type": "code",
   "execution_count": null,
   "metadata": {},
   "outputs": [],
   "source": [
    "import matplotlib.pyplot as plt\n",
    "factor1_returns.plot()\n",
    "factor2_returns.plot()\n",
    "factor3_returns.plot()\n",
    "factor4_returns.plot()\n",
    "plt.ylabel('Returns')\n",
    "plt.legend(['Factor1', 'Factor2', 'Factor3','Factor4']);"
   ]
  },
  {
   "cell_type": "code",
   "execution_count": null,
   "metadata": {},
   "outputs": [],
   "source": [
    "np.corrcoef([factor1_returns, factor2_returns,factor3_returns,factor4_returns],\n",
    "           columns = ['factor1_returns', 'factor2_returns','factor3_returns','factor4_returns'])"
   ]
  }
 ],
 "metadata": {
  "kernelspec": {
   "display_name": "Python 2",
   "language": "python",
   "name": "python2"
  },
  "language_info": {
   "codemirror_mode": {
    "name": "ipython",
    "version": 2
   },
   "file_extension": ".py",
   "mimetype": "text/x-python",
   "name": "python",
   "nbconvert_exporter": "python",
   "pygments_lexer": "ipython2",
   "version": "2.7.12"
  }
 },
 "nbformat": 4,
 "nbformat_minor": 2
}
