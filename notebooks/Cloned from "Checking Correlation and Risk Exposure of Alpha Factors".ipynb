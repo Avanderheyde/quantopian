{
 "cells": [
  {
   "cell_type": "markdown",
   "metadata": {
    "deletable": true,
    "editable": true
   },
   "source": [
    "# Checking Factor Correlation and Risk Exposure"
   ]
  },
  {
   "cell_type": "markdown",
   "metadata": {
    "deletable": true,
    "editable": true
   },
   "source": [
    "by Delaney Mackenzie\n",
    "\n",
    "Much of the code in this notebook comes from exmamples written by Luca.\n",
    "\n",
    "This is a quick example notebook showing how to check factor correlation. We start by computing our factors, then we construct portfolios based on the top and bottom quintiles. Then we check the correlation of returns of those portfolios.\n",
    "\n",
    "This notebook assumes that you have a working knowledge of research and Alphalens. If you don't, check out [this tutorial](https://www.quantopian.com/tutorials/getting-started).\n",
    "\n",
    "These cells can take a little while to run, and the time is dependent on the complexity of your factors and the length of the time window you choose."
   ]
  },
  {
   "cell_type": "code",
   "execution_count": null,
   "metadata": {
    "deletable": true,
    "editable": true
   },
   "outputs": [],
   "source": [
    "from quantopian.pipeline.factors import CustomFactor\n",
    "from quantopian.pipeline.data.builtin import USEquityPricing\n",
    "\n",
    "import numpy as np\n",
    "import pandas as pd\n",
    "import scipy.stats as stats"
   ]
  },
  {
   "cell_type": "markdown",
   "metadata": {
    "deletable": true,
    "editable": true
   },
   "source": [
    "Import the Quantopian Tradeable Universe for US stocks."
   ]
  },
  {
   "cell_type": "code",
   "execution_count": null,
   "metadata": {
    "deletable": true,
    "editable": true
   },
   "outputs": [],
   "source": [
    "from quantopian.pipeline.filters import QTradableStocksUS"
   ]
  },
  {
   "cell_type": "code",
   "execution_count": null,
   "metadata": {
    "deletable": true,
    "editable": true
   },
   "outputs": [],
   "source": [
    "universe = QTradableStocksUS()"
   ]
  },
  {
   "cell_type": "markdown",
   "metadata": {
    "deletable": true,
    "editable": true
   },
   "source": [
    "Define our pipeline with the factors you want. We have some fairly simple corporate fundamentals based factors. You might want to use Custom Factors instead."
   ]
  },
  {
   "cell_type": "code",
   "execution_count": null,
   "metadata": {
    "deletable": true,
    "editable": true
   },
   "outputs": [],
   "source": [
    "from quantopian.research import run_pipeline\n",
    "from quantopian.pipeline import Pipeline\n",
    "from quantopian.pipeline.classifiers.fundamentals import Sector \n",
    "from quantopian.pipeline.data import Fundamentals"
   ]
  },
  {
   "cell_type": "code",
   "execution_count": null,
   "metadata": {
    "deletable": true,
    "editable": true
   },
   "outputs": [],
   "source": [
    "value = Fundamentals.ebit.latest / Fundamentals.enterprise_value.latest\n",
    "quality = Fundamentals.roe.latest\n",
    "pipe = Pipeline(\n",
    "    columns = {\n",
    "            'factor1' : value,\n",
    "            'factor2' : quality,\n",
    "            'Sector' : Sector(mask=universe), # optional, useful to compute individual sector statistics\n",
    "    },\n",
    "    screen=universe\n",
    ")"
   ]
  },
  {
   "cell_type": "markdown",
   "metadata": {
    "deletable": true,
    "editable": true
   },
   "source": [
    "Let's run our pipeline to get the daily values of each factor over a set time period.\n",
    "\n",
    "Since computing factor(s) over a long period of time requires lots of memory, we use the `chunksize` argument to split our Pipeline computation into a specific number of days, limiting memory usage."
   ]
  },
  {
   "cell_type": "code",
   "execution_count": null,
   "metadata": {
    "deletable": true,
    "editable": true
   },
   "outputs": [],
   "source": [
    "factors = run_pipeline(pipe, '2013-01-01', '2014-01-01', chunksize=250) # chunksize is optional\n",
    "factors = factors.dropna()"
   ]
  },
  {
   "cell_type": "markdown",
   "metadata": {
    "deletable": true,
    "editable": true
   },
   "source": [
    "Find all the assets that were ever touched by these factors."
   ]
  },
  {
   "cell_type": "code",
   "execution_count": null,
   "metadata": {
    "deletable": true,
    "editable": true
   },
   "outputs": [],
   "source": [
    "asset_list = factors.index.levels[1]"
   ]
  },
  {
   "cell_type": "markdown",
   "metadata": {
    "deletable": true,
    "editable": true
   },
   "source": [
    "Get pricing data for these assets."
   ]
  },
  {
   "cell_type": "code",
   "execution_count": null,
   "metadata": {
    "deletable": true,
    "editable": true
   },
   "outputs": [],
   "source": [
    "prices = get_pricing(asset_list, start_date='2013-01-01', end_date='2014-02-01', fields='open_price')"
   ]
  },
  {
   "cell_type": "markdown",
   "metadata": {
    "deletable": true,
    "editable": true
   },
   "source": [
    "Initialize Alphalens and compute all the forward returns and how they relate to the factor values. This is the first step when running Alphalens to determine how predictive each factor is of forward returns, we'll diverge after this step."
   ]
  },
  {
   "cell_type": "code",
   "execution_count": null,
   "metadata": {
    "deletable": true,
    "editable": true
   },
   "outputs": [],
   "source": [
    "import alphalens as al\n",
    "\n",
    "sector_labels = dict(Sector.SECTOR_NAMES)\n",
    "sector_labels[-1] = \"Unknown\" # no dataset is perfect, better handle the unexpected"
   ]
  },
  {
   "cell_type": "code",
   "execution_count": null,
   "metadata": {
    "deletable": true,
    "editable": true
   },
   "outputs": [],
   "source": [
    "factor1_data = al.utils.get_clean_factor_and_forward_returns(\n",
    "    factor=factors[\"factor1\"],\n",
    "    prices=prices,\n",
    "    groupby=factors[\"Sector\"],\n",
    "    quantiles=5,\n",
    "    periods=(1, 5, 10)\n",
    ")\n",
    "\n",
    "factor2_data = al.utils.get_clean_factor_and_forward_returns(\n",
    "    factor=factors[\"factor2\"],\n",
    "    prices=prices,\n",
    "    groupby=factors[\"Sector\"],\n",
    "    quantiles=5,\n",
    "    periods=(1, 5, 10)\n",
    ")"
   ]
  },
  {
   "cell_type": "markdown",
   "metadata": {
    "deletable": true,
    "editable": true
   },
   "source": [
    "Use built-in functionality to compute the returns were you invested long the highest ranked assets and short the bottom ranked assets for each factor. This is standard methodology, but keep in mind that the returns can be pretty heavily affected by the choices you make on how to construct the portfolio from the factor values."
   ]
  },
  {
   "cell_type": "code",
   "execution_count": null,
   "metadata": {
    "deletable": true,
    "editable": true
   },
   "outputs": [],
   "source": [
    "factor1_returns, factor1_positions, factor1_benchmark = \\\n",
    "    al.performance.create_pyfolio_input(factor1_data,\n",
    "                                        period='5D',\n",
    "                                        capital=1000000,\n",
    "                                        long_short=True,\n",
    "                                        group_neutral=False,\n",
    "                                        equal_weight=True,\n",
    "                                        quantiles=[1,5],\n",
    "                                        groups=None,\n",
    "                                        benchmark_period='1D')\n",
    "\n",
    "factor2_returns, factor2_positions, factor2_benchmark = \\\n",
    "    al.performance.create_pyfolio_input(factor2_data,\n",
    "                                        period='5D',\n",
    "                                        capital=1000000,\n",
    "                                        long_short=True,\n",
    "                                        group_neutral=False,\n",
    "                                        equal_weight=True,\n",
    "                                        quantiles=[1,5],\n",
    "                                        groups=None,\n",
    "                                        benchmark_period='1D')"
   ]
  },
  {
   "cell_type": "markdown",
   "metadata": {
    "deletable": true,
    "editable": true
   },
   "source": [
    "Plot the returns."
   ]
  },
  {
   "cell_type": "code",
   "execution_count": null,
   "metadata": {
    "deletable": true,
    "editable": true
   },
   "outputs": [],
   "source": [
    "import matplotlib.pyplot as plt"
   ]
  },
  {
   "cell_type": "code",
   "execution_count": null,
   "metadata": {
    "deletable": true,
    "editable": true
   },
   "outputs": [],
   "source": [
    "factor1_returns.plot()\n",
    "factor2_returns.plot()\n",
    "plt.ylabel('Returns')\n",
    "plt.legend(['Factor1', 'Factor2']);"
   ]
  },
  {
   "cell_type": "markdown",
   "metadata": {
    "deletable": true,
    "editable": true
   },
   "source": [
    "Looks a little correlated, let's check."
   ]
  },
  {
   "cell_type": "code",
   "execution_count": null,
   "metadata": {
    "deletable": true,
    "editable": true
   },
   "outputs": [],
   "source": [
    "np.corrcoef([factor1_returns, factor2_returns])"
   ]
  },
  {
   "cell_type": "markdown",
   "metadata": {
    "deletable": true,
    "editable": true
   },
   "source": [
    "Correlation is 0.84. This method can be extended to N factors by just adding them appropriately in the code above."
   ]
  },
  {
   "cell_type": "markdown",
   "metadata": {
    "deletable": true,
    "editable": true
   },
   "source": [
    "## Risk Exposure\n",
    "Now we'll check the exposure of Factor 1 to the Quantopian risk model factors via Pyfolio. This needs a few pieces of information on risk factor loadings that we'll generate here. To check the exposure of Factor 2 you can just change the code to reference `factor2` instead."
   ]
  },
  {
   "cell_type": "code",
   "execution_count": null,
   "metadata": {
    "deletable": true,
    "editable": true
   },
   "outputs": [],
   "source": [
    "import pyfolio as pf\n",
    "\n",
    "from quantopian.research.experimental import get_factor_loadings, get_factor_returns\n",
    "\n",
    "asset_list = factor1_data.index.levels[1].unique()\n",
    "start_date = factor1_data.index.levels[0].min()\n",
    "end_date   = factor1_data.index.levels[0].max()\n",
    "\n",
    "factor_loadings = get_factor_loadings(asset_list, start_date, end_date)\n",
    "factor_returns = get_factor_returns(start_date, end_date)\n",
    "\n",
    "factor_loadings.index.names = ['dt', 'ticker']"
   ]
  },
  {
   "cell_type": "code",
   "execution_count": null,
   "metadata": {
    "deletable": true,
    "editable": true
   },
   "outputs": [],
   "source": [
    "pf.tears.create_perf_attrib_tear_sheet(factor1_returns,\n",
    "                                       positions=factor1_positions,\n",
    "                                       factor_returns=factor_returns,\n",
    "                                       factor_loadings=factor_loadings,      \n",
    "                                       pos_in_dollars=True)"
   ]
  },
  {
   "cell_type": "markdown",
   "metadata": {
    "deletable": true,
    "editable": true
   },
   "source": [
    "*This presentation is for informational purposes only and does not constitute an offer to sell, a solicitation to buy, or a recommendation for any security; nor does it constitute an offer to provide investment advisory or other services by Quantopian, Inc. (\"Quantopian\"). Nothing contained herein constitutes investment advice or offers any opinion with respect to the suitability of any security, and any views expressed herein should not be taken as advice to buy, sell, or hold any security or as an endorsement of any security or company. In preparing the information contained herein, Quantopian, Inc. has not taken into account the investment needs, objectives, and financial circumstances of any particular investor. Any views expressed and data illustrated herein were prepared based upon information, believed to be reliable, available to Quantopian, Inc. at the time of publication. Quantopian makes no guarantees as to their accuracy or completeness. All information is subject to change and may quickly become unreliable for various reasons, including changes in market conditions or economic circumstances.*"
   ]
  }
 ],
 "metadata": {
  "kernelspec": {
   "display_name": "Python 2",
   "language": "python",
   "name": "python2"
  },
  "language_info": {
   "codemirror_mode": {
    "name": "ipython",
    "version": 2
   },
   "file_extension": ".py",
   "mimetype": "text/x-python",
   "name": "python",
   "nbconvert_exporter": "python",
   "pygments_lexer": "ipython2",
   "version": "2.7.12"
  }
 },
 "nbformat": 4,
 "nbformat_minor": 2
}
